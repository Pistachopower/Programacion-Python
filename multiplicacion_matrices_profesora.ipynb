{
 "cells": [
  {
   "cell_type": "markdown",
   "metadata": {},
   "source": [
    "Pseudocódigo e implementación en python:\n",
    "\n",
    "Dadas dos matrices de números reales con las dimensiones adecuadas, calcular su producto.\n",
    "\n",
    "\n",
    "\n",
    "Posible solución\n",
    "\n",
    "PROGRAMA Producto de matrices\n",
    "INICIO PROGRAMA\n",
    "   matriz función multiplicar_matrices (matrices: A,B)\n",
    "   variables\n",
    "       matriz M\n",
    "       entero numero_filas_A, numero_columnas_B, i, j\n",
    "   inicio función\n",
    "       numero_filas_A <- longitud de A\n",
    "       numero_columnas_B <- longitud de una fila de B\n",
    "       M <- matriz con dimensión (numero_filas_A, numero_columnas_B) con todos sus elementos en nulo\n",
    "       para i desde 0 hasta numero_filas_A - 1:\n",
    "           para j desde 0 hasta numero_columnas_B - 1:\n",
    "               elemento i,j - ésimo de M <- Calcular el elemento (i,j)-ésimo de AxB\n",
    "           fin para\n",
    "       fin para\n",
    "       devolver M\n",
    "   real función calcular_elemento(matrices:A,B, interos:i,j)\n",
    "   variables\n",
    "       entero: elemento, k\n",
    "   inicio función\n",
    "       elemento <- 0\n",
    "       numero_filas_B <- longitud de B\n",
    "       Para k desde 0 hasta numero_filas_B - 1 hacer\n",
    "           sumar a elemento el producto del elemento(i,j)-ésimo de A por el elemento(k,j)-ésimo de B\n",
    "       fin para\n",
    "       devolver elemento\n",
    "   fin función\n",
    "FIN PROGRAMA \n",
    "Pseudocódigo e implementación en python:\n",
    "\n",
    "Dadas dos matrices de números reales con las dimensiones adecuadas, calcular su producto.\n",
    "\n",
    "\n",
    "\n",
    "Posible solución\n",
    "\n",
    "PROGRAMA Producto de matrices\n",
    "INICIO PROGRAMA\n",
    "   matriz función multiplicar_matrices (matrices: A,B)\n",
    "   variables\n",
    "       matriz M\n",
    "       entero numero_filas_A, numero_columnas_B, i, j\n",
    "   inicio función\n",
    "       numero_filas_A <- longitud de A\n",
    "       numero_columnas_B <- longitud de una fila de B\n",
    "       M <- matriz con dimensión (numero_filas_A, numero_columnas_B) con todos sus elementos en nulo\n",
    "       para i desde 0 hasta numero_filas_A - 1:\n",
    "           para j desde 0 hasta numero_columnas_B - 1:\n",
    "               elemento i,j - ésimo de M <- Calcular el elemento (i,j)-ésimo de AxB\n",
    "           fin para\n",
    "       fin para\n",
    "       devolver M\n",
    "   real función calcular_elemento(matrices:A,B, interos:i,j)\n",
    "   variables\n",
    "       entero: elemento, k\n",
    "   inicio función\n",
    "       elemento <- 0\n",
    "       numero_filas_B <- longitud de B\n",
    "       Para k desde 0 hasta numero_filas_B - 1 hacer\n",
    "           sumar a elemento el producto del elemento(i,j)-ésimo de A por el elemento(k,j)-ésimo de B\n",
    "       fin para\n",
    "       devolver elemento\n",
    "   fin función\n",
    "FIN PROGRAMA \n"
   ]
  },
  {
   "cell_type": "code",
   "execution_count": 1,
   "metadata": {},
   "outputs": [
    {
     "name": "stdout",
     "output_type": "stream",
     "text": [
      "[None, None]\n",
      "[None, None]\n",
      "[[58, 64], [139, 154]]\n"
     ]
    },
    {
     "data": {
      "text/plain": [
       "[[58, 64], [139, 154]]"
      ]
     },
     "execution_count": 1,
     "metadata": {},
     "output_type": "execute_result"
    }
   ],
   "source": [
    "def calcular_elemento(A,B,i,j):\n",
    "   elemento = 0\n",
    "   numero_filas_B = len(B)\n",
    "   for k in range(numero_filas_B):\n",
    "       elemento += A[i][k] * B[k][j]\n",
    "   return elemento\n",
    "\n",
    "\n",
    "def multiplicar_matrices(A,B):\n",
    "   numero_filas_A = len(A)\n",
    "   numero_columnas_B = len(B[0])\n",
    "   M=[]\n",
    "   for i in range (numero_filas_A):\n",
    "       fila = [None]*numero_columnas_B\n",
    "       print(fila)\n",
    "       M.append(fila)\n",
    "   for i in range(numero_filas_A):\n",
    "       for j in range(numero_columnas_B):\n",
    "           elemento = calcular_elemento(A,B,i,j)\n",
    "           M[i][j] = elemento\n",
    "   print(M)\n",
    "   return M\n",
    "\n",
    "\n",
    "\n",
    "\n",
    "A = [[1,2,3],[4,5,6]]\n",
    "B = [[7,8],[9,10],[11,12]]\n",
    "multiplicar_matrices (A,B)\n",
    "\n"
   ]
  }
 ],
 "metadata": {
  "kernelspec": {
   "display_name": "Python 3 (ipykernel)",
   "language": "python",
   "name": "python3"
  },
  "language_info": {
   "codemirror_mode": {
    "name": "ipython",
    "version": 3
   },
   "file_extension": ".py",
   "mimetype": "text/x-python",
   "name": "python",
   "nbconvert_exporter": "python",
   "pygments_lexer": "ipython3",
   "version": "3.10.6"
  },
  "vscode": {
   "interpreter": {
    "hash": "916dbcbb3f70747c44a77c7bcd40155683ae19c65e1c03b4aa3499c5328201f1"
   }
  }
 },
 "nbformat": 4,
 "nbformat_minor": 2
}
