{
 "cells": [
  {
   "cell_type": "markdown",
   "metadata": {},
   "source": [
    "Programacion modular \n",
    "La independencia de los modulos permiten trabajar con ellos simultaneamente \n",
    "La modificacion de un modulo no afecta a los demas \n",
    "Los modulos solo se escriben una vez, aunque se necesiten en distintas ocaciones. \n",
    "\n",
    "Resolucion independiente de los subproblemas resultantes de la descomposicion de un problema.  Un problema sera resuelto por un programa principal que transfiere el control a los distintos modulos o subprograma, los cuales al terminar su tarea devolveran el control al programa principal. \n",
    "\n",
    "Tipos:\n",
    "    <br> Funciones: Toma uno o mas valores denominados argumentos y devuelve un resultado.\n",
    "\n",
    "   <br>  Procedimiento: igual que funcion pero no devuelve ningun valor.\n",
    "\n",
    "\n",
    "Programa: convertir celsius a grado farenheit<br> \n",
    "\n",
    "Inicio programa<br> \n",
    "    variables <br> \n",
    "\n",
    "Inicio programa<br> \n",
    "Inicio funcion<br> \n",
    "    farenheit<-- (9/5 * celsius) -32<br> \n",
    "    devolver farenheit<br> \n",
    "fin funcionv<br> \n",
    "fin programa<br> \n",
    "\n",
    "\n",
    "\n"
   ]
  },
  {
   "cell_type": "code",
   "execution_count": null,
   "metadata": {
    "pycharm": {
     "is_executing": true
    }
   },
   "outputs": [],
   "source": [
    "#funcion\n",
    "def grados_celsius_f(Fahrennheit):\n",
    "    celsius= ((5/9) * Fahrennheit -32)\n",
    "    return celsius\n"
   ]
  },
  {
   "cell_type": "code",
   "execution_count": 10,
   "metadata": {},
   "outputs": [
    {
     "name": "stdout",
     "output_type": "stream",
     "text": [
      "-4.222222222222221\n"
     ]
    }
   ],
   "source": [
    "grados_celsius_f(50)"
   ]
  },
  {
   "cell_type": "code",
   "execution_count": 5,
   "metadata": {},
   "outputs": [],
   "source": [
    "#procedimiento\n",
    "def grados_celsius_f(Fahrennheit):\n",
    "    celsius= ((5/9) * Fahrennheit -32)\n",
    "    print(celsius)\n"
   ]
  },
  {
   "cell_type": "code",
   "execution_count": 2,
   "metadata": {},
   "outputs": [],
   "source": [
    "#definicion\n",
    "def saludar():\n",
    "    print(\"este print se llama desde el procedimiento saludar\")"
   ]
  },
  {
   "cell_type": "code",
   "execution_count": 3,
   "metadata": {},
   "outputs": [
    {
     "name": "stdout",
     "output_type": "stream",
     "text": [
      "este print se llama desde el procedimiento saludar\n"
     ]
    }
   ],
   "source": [
    "#llamada\n",
    "saludar()"
   ]
  },
  {
   "cell_type": "code",
   "execution_count": 8,
   "metadata": {},
   "outputs": [],
   "source": [
    "def dibujar_tabla_del_5():\n",
    "    for i in range(10):\n",
    "        print(\"5 * {} = {}\".format(i,i*5))\n",
    "        "
   ]
  },
  {
   "cell_type": "code",
   "execution_count": 9,
   "metadata": {},
   "outputs": [
    {
     "name": "stdout",
     "output_type": "stream",
     "text": [
      "5 * 0 = 0\n",
      "5 * 1 = 5\n",
      "5 * 2 = 10\n",
      "5 * 3 = 15\n",
      "5 * 4 = 20\n",
      "5 * 5 = 25\n",
      "5 * 6 = 30\n",
      "5 * 7 = 35\n",
      "5 * 8 = 40\n",
      "5 * 9 = 45\n"
     ]
    }
   ],
   "source": [
    "dibujar_tabla_del_5()"
   ]
  },
  {
   "cell_type": "code",
   "execution_count": 6,
   "metadata": {},
   "outputs": [
    {
     "name": "stdout",
     "output_type": "stream",
     "text": [
      "10\n"
     ]
    }
   ],
   "source": [
    "m=10\n",
    "\n",
    "def test ():\n",
    "    print(m)\n",
    "\n",
    "test()\n",
    "    "
   ]
  },
  {
   "cell_type": "code",
   "execution_count": 4,
   "metadata": {},
   "outputs": [
    {
     "data": {
      "text/plain": [
       "10"
      ]
     },
     "execution_count": 4,
     "metadata": {},
     "output_type": "execute_result"
    }
   ],
   "source": [
    "\"\"\"\n",
    "\"global\" sirve para declarar una variable como variable global, \n",
    "es decir que se puede acceder a ella desde cualquier parte del \n",
    "programa.\n",
    "\n",
    "Por ejemplo, declaramos una variable a como global, definimos 2\n",
    "funciones:\n",
    "\"\"\"\n",
    "#area global\n",
    "global a\n",
    "\n",
    "a = 5\n",
    " \n",
    "def f1(a,b):\n",
    "    #area local\n",
    "  return a+b\n",
    " \n",
    "def f2(c):\n",
    "  return a+c\n",
    "\n",
    "\n",
    "f1(1,1)\n",
    "f2(5)\n",
    "\n",
    "\"\"\"\n",
    "La primera funcion recibe 2 numero y devuelve la suma. \n",
    "En este caso recibe a y b. Pues al hacer a+b, usamos el a \n",
    "que nos pasan por parametro, que una variable local, una \n",
    "vez que sale de la funcion deja de existir.\n",
    "\n",
    "En la segunda funcion, al hacer a+c, usamos el a declarado \n",
    "como global.\n",
    "\n",
    "\"\"\""
   ]
  },
  {
   "cell_type": "code",
   "execution_count": 14,
   "metadata": {},
   "outputs": [
    {
     "data": {
      "text/plain": [
       "'La funcion test devuelve una cadena'"
      ]
     },
     "execution_count": 14,
     "metadata": {},
     "output_type": "execute_result"
    }
   ],
   "source": [
    "#Return: retorno de valores \n",
    "#Gracias a la instruccion return las funciones pueden devolver \n",
    "# valores al proceso principal para comunicarse con el exterior.\n",
    "# La funcion finaliza en el \n",
    "#en el momento de devolver el valor. \n",
    "\n",
    "def test():\n",
    "    return \"La funcion test devuelve una cadena\"\n",
    "\n",
    "test()\n"
   ]
  },
  {
   "cell_type": "code",
   "execution_count": 6,
   "metadata": {},
   "outputs": [],
   "source": [
    "#Los valores devueltos por una funcion se tratan como valores \n",
    "# literales directos del tipo de dato retornado \n",
    "#print(test())\n",
    "\n",
    "#puedes guardar una funcion en una variable \n",
    "#funcion= test()\n",
    "#print(funcion) "
   ]
  },
  {
   "cell_type": "code",
   "execution_count": 21,
   "metadata": {},
   "outputs": [
    {
     "name": "stdout",
     "output_type": "stream",
     "text": [
      "[1, 2, 3, 4, 5]\n",
      "3\n"
     ]
    }
   ],
   "source": [
    "def test ():\n",
    "    return [1,2,3,4,5]\n",
    "\n",
    "print(test())\n",
    "\n",
    "\n",
    "#acceder a un elemento de la lista que esta dentro de una funcion\n",
    "print(test()[2])"
   ]
  },
  {
   "cell_type": "code",
   "execution_count": 23,
   "metadata": {},
   "outputs": [
    {
     "data": {
      "text/plain": [
       "('Una cadena', 20, [1, 2, 3])"
      ]
     },
     "execution_count": 23,
     "metadata": {},
     "output_type": "execute_result"
    }
   ],
   "source": [
    "\"\"\"\n",
    "Retorno multiple\n",
    "Una caracteristica es la posibilidadd de devolver multiples valores separados\n",
    "por comas \n",
    "\n",
    "\"\"\"\n",
    "\n",
    "def test ():\n",
    "    return \"Una cadena\", 20, [1,2,3]\n",
    "\n",
    "test()\n"
   ]
  },
  {
   "cell_type": "code",
   "execution_count": 28,
   "metadata": {},
   "outputs": [
    {
     "name": "stdout",
     "output_type": "stream",
     "text": [
      "Una cadena\n",
      "20\n",
      "[1, 2, 3]\n"
     ]
    }
   ],
   "source": [
    "#Estos valores se tratan en conjunto como una tupla inmutable y se \n",
    "# pueden reasignar a distintas variables \n",
    "#definir los valores del return a unas variables \n",
    "\n",
    "c,n,l= test()\n",
    "\n",
    "print(c)\n",
    "print(n)\n",
    "print(l)\n",
    "\n"
   ]
  },
  {
   "cell_type": "code",
   "execution_count": 31,
   "metadata": {},
   "outputs": [
    {
     "name": "stdout",
     "output_type": "stream",
     "text": [
      "3\n"
     ]
    }
   ],
   "source": [
    "#el argot se llama poner valores por parametros \n",
    "def suma (a,b):\n",
    "    return a + b\n",
    "\n",
    "\n",
    "r= suma(1,2)\n",
    "print(r)\n"
   ]
  },
  {
   "cell_type": "code",
   "execution_count": 33,
   "metadata": {},
   "outputs": [
    {
     "name": "stdout",
     "output_type": "stream",
     "text": [
      "-2\n",
      "2\n"
     ]
    }
   ],
   "source": [
    "#Argumentos por posicion\n",
    "#Cuando enviamos argumentos a una funcion estos se definen por el \n",
    "# orden en que estan los parametros definidos\n",
    "\n",
    "def resta(a,b):\n",
    "    return a-b\n",
    "\n",
    "print(resta(8,10))\n",
    "print(resta(10,8))"
   ]
  },
  {
   "cell_type": "code",
   "execution_count": 34,
   "metadata": {},
   "outputs": [
    {
     "name": "stdout",
     "output_type": "stream",
     "text": [
      "2\n",
      "-2\n"
     ]
    }
   ],
   "source": [
    "#Argumentos por nombre \n",
    "#Podemos indicar durante la llamada el valor de cada parametro a partir de su nombre \n",
    "\n",
    "print(resta(a=10, b=8))\n",
    "print(resta(a=8, b=10))"
   ]
  },
  {
   "cell_type": "code",
   "execution_count": 42,
   "metadata": {},
   "outputs": [
    {
     "name": "stdout",
     "output_type": "stream",
     "text": [
      "-4\n",
      "Error, debes enviar dos numeros a la funcion\n",
      "None\n"
     ]
    }
   ],
   "source": [
    "#Parametros por defecto \n",
    "#Podemos asignar unos valores por defecto\n",
    "\n",
    "def resta (a=None, b= None):\n",
    "    if a == None or b == None:\n",
    "        print(\"Error, debes enviar dos numeros a la funcion\")\n",
    "        return \n",
    "    return a - b\n",
    "\n",
    "\n",
    "print(\"se refiere al return a -b \")\n",
    "print(resta(1,5))\n",
    "\n",
    "print(\"Al no colocar nada en los parametros se devuelve None\")\n",
    "print(resta())\n",
    "\n",
    "\n",
    "    "
   ]
  },
  {
   "cell_type": "markdown",
   "metadata": {},
   "source": [
    "video explicativo de args y kwargs:\n",
    "https://www.youtube.com/watch?v=9iBRkmpav0Y"
   ]
  },
  {
   "cell_type": "code",
   "execution_count": 1,
   "metadata": {},
   "outputs": [
    {
     "name": "stdout",
     "output_type": "stream",
     "text": [
      "5\n",
      "hola\n",
      "[1, 2, 3]\n"
     ]
    }
   ],
   "source": [
    "#Argumentos indeterminados\n",
    "\n",
    "#*args se trata de una palabra reservada que \n",
    "# permite dejar libertad para \n",
    "# poner la cantidad de parametro que sea\n",
    "#se trabaja con diccionario \n",
    "\n",
    "def indeterminados_posicion (*args):\n",
    "    for arg in args: \n",
    "        print(arg)\n",
    "        \n",
    "indeterminados_posicion(5,'hola', [1,2,3])\n"
   ]
  },
  {
   "cell_type": "code",
   "execution_count": 2,
   "metadata": {},
   "outputs": [
    {
     "name": "stdout",
     "output_type": "stream",
     "text": [
      "n - 5\n",
      "c - Hola\n",
      "l - [1, 2, 3]\n"
     ]
    }
   ],
   "source": [
    "#se trabaja con tuplas \n",
    "def indeterminados_nombre (**kwargs):\n",
    "    for kwarg in kwargs: \n",
    "        print(kwarg, \"-\", kwargs[kwarg])\n",
    "\n",
    "indeterminados_nombre(n=5, c= \"Hola\", l=[1,2,3])       "
   ]
  },
  {
   "cell_type": "code",
   "execution_count": 8,
   "metadata": {},
   "outputs": [
    {
     "name": "stdout",
     "output_type": "stream",
     "text": [
      "Sumatorio indeterminado 265.56\n",
      "{'nombre': 'Pedro', 'edad': 28} - Pedro\n",
      "{'nombre': 'Pedro', 'edad': 28} - 28\n"
     ]
    }
   ],
   "source": [
    "def total_funcion(*args, **kwargs):\n",
    "    t=0\n",
    "    for arg in args:\n",
    "        t+= arg\n",
    "    print(\"Sumatorio indeterminado\", t)\n",
    "    \n",
    "    for kwarg in kwargs:\n",
    "        print(kwargs, \"-\", kwargs[kwarg])\n",
    "        \n",
    "total_funcion(10,50,-1,1.56,200,5, nombre= \"Pedro\", edad=28)"
   ]
  },
  {
   "cell_type": "code",
   "execution_count": 3,
   "metadata": {},
   "outputs": [
    {
     "name": "stdout",
     "output_type": "stream",
     "text": [
      "4\n",
      "3\n",
      "2\n",
      "1\n",
      "fin\n"
     ]
    }
   ],
   "source": [
    "#Funciones recursiva: se llama a si misma \n",
    "def cuenta_atras(num):\n",
    "    num -=1\n",
    "    if num > 0:\n",
    "        print(num)\n",
    "        cuenta_atras(num)\n",
    "    else:\n",
    "        print(\"fin\") \n",
    "    #print(\"fin de la funcion\")\n",
    "\n",
    "cuenta_atras(5)"
   ]
  },
  {
   "cell_type": "code",
   "execution_count": null,
   "metadata": {},
   "outputs": [],
   "source": []
  }
 ],
 "metadata": {
  "kernelspec": {
   "display_name": "Python 3 (ipykernel)",
   "language": "python",
   "name": "python3"
  },
  "language_info": {
   "codemirror_mode": {
    "name": "ipython",
    "version": 3
   },
   "file_extension": ".py",
   "mimetype": "text/x-python",
   "name": "python",
   "nbconvert_exporter": "python",
   "pygments_lexer": "ipython3",
   "version": "3.10.6"
  },
  "vscode": {
   "interpreter": {
    "hash": "916dbcbb3f70747c44a77c7bcd40155683ae19c65e1c03b4aa3499c5328201f1"
   }
  }
 },
 "nbformat": 4,
 "nbformat_minor": 2
}
