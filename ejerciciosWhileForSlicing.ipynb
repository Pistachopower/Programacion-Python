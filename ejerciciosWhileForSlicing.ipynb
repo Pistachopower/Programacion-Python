{
 "cells": [
  {
   "attachments": {},
   "cell_type": "markdown",
   "metadata": {},
   "source": [
    "Dividiendo sucesivamente una cantidad exacta de euros por los siguientes números (500, 200, 100, 50, 20, 10, 5, 2, 1) podemos desglosar esa cantidad en el menor número de billetes y monedas necesarios.\n",
    "\n",
    "Problema: Pedir una cantidad exacta de euros y escribir en pantalla el mínimo desglose en billetes y monedas de esa cantidad.\n"
   ]
  },
  {
   "cell_type": "code",
   "execution_count": null,
   "metadata": {
    "pycharm": {
     "is_executing": true
    }
   },
   "outputs": [],
   "source": [
    "#pedimos en valor \n",
    "euros= eval(input(\"Introduce el valor a calcular: \"))\n",
    "\n",
    "#definimos la lista con la tupla\n",
    "dinero_tipo= [(500, \"billetes\"), (200, \"billetes\"), (100, \"billetes\"), \n",
    "              (50, \"billetes\"), (20, \"billetes\"), (10, \"billetes\"),\n",
    "              (5, \"billetes\"), (2, \"moneda\"), (1, \"moneda\")]\n",
    "\n",
    "#recorremos la lista con las tuplas y la guardamos en i\n",
    "for i in dinero_tipo:\n",
    "#separamos los elementos de la tupla por dinero y tipo\n",
    "    dinero, tipo= i\n",
    "    #division entera con la cantidad de billetes y lo almacenamos en BilletesEnteros\n",
    "    BilletesEnteros= euros //dinero\n",
    "    #definimos una condicion de si BilletesEnteros es diferente a 0 imprima la cantidad de billetes enteros \n",
    "    if BilletesEnteros != 0:\n",
    "        print(\"\"\"El total de {} son {} de {} de {} \"\"\"\n",
    "              .format(euros, BilletesEnteros, tipo, dinero))\n",
    "    #calculamos con el resto el valor de euros con dinero para terminar la siguiente iteracion \n",
    "    #cuando sea igual a 0\n",
    "    euros= euros%dinero"
   ]
  },
  {
   "cell_type": "code",
   "execution_count": null,
   "metadata": {
    "pycharm": {
     "is_executing": true
    }
   },
   "outputs": [],
   "source": [
    "\"\"\"\n",
    "pasar por parametro (a)2 = 4\n",
    "\n",
    "import math\n",
    "a= eval(input(\"Introduce un número entero >=0: \"))\n",
    "contador= 0\n",
    "\n",
    "while contador < a:\n",
    "    contador= contador+ 1\n",
    "    resultado= math.pow(2,a)\n",
    "\n",
    "print(\"La potencia de 2 y {}  es {}\".format(a,resultado))\n",
    "\"\"\"\n",
    "\n",
    "\n",
    "number= int(input(\"Ingrese un número entero mayor o igual a 0: \"))\n",
    "contador=0\n",
    "\n",
    "\n",
    "while contador < number:\n",
    "    contador+=1\n",
    "    resultado= 2**number\n",
    "print(resultado)"
   ]
  },
  {
   "attachments": {},
   "cell_type": "markdown",
   "metadata": {},
   "source": [
    "Actividad 1. Pedir dos números enteros y escribir el mínimo común múltiplo. Diagrama, pseudocódigo y código."
   ]
  },
  {
   "attachments": {},
   "cell_type": "markdown",
   "metadata": {},
   "source": []
  },
  {
   "cell_type": "code",
   "execution_count": null,
   "metadata": {},
   "outputs": [
    {
     "name": "stdout",
     "output_type": "stream",
     "text": [
      "El mcm de 16 y 20 es 320\n"
     ]
    }
   ],
   "source": [
    "\"\"\"\n",
    "pasar por parametro (a)16 y (b)20 = 80\n",
    "\n",
    "segunda forma\n",
    "n = eval (input (\"Introduce un numero\"))\n",
    "n2 = eval (input (\"Introduce otro numero\"))\n",
    "for i in range (1,n2+1):\n",
    "    if ((n*i)%n2)==0:\n",
    "        print(\"El mcm entre {} y {} es {} \".format(n,n2,n*i))\n",
    "        break\n",
    "\n",
    "\"\"\"\n",
    "#recuerda que el ejercicio te está pidiendo escribir el mcm\n",
    "#entre n1 y n2\n",
    "n1=16\n",
    "n2= 20\n",
    "\n",
    "#creamos la variable producto para ponerlo en el for y \n",
    "#hacer los pasos del mcm multiplo\n",
    "producto= n1 * n2\n",
    "\n",
    "#determinamos el numero mayor de n1 y n2 con la funcion max\n",
    "maximo= max(n1,n2)\n",
    "\n",
    "#usamos un for para recorrer del numero mayor entre n1 y n2\n",
    "#y del producto de la multiplicacion  \n",
    "for mcm in range(maximo, producto+1):\n",
    "    \n",
    "    #usamos un condicional para buscar el mcm de n1 y n2 por cada \n",
    "    #iteracion del rango de maximo y producto \n",
    "    if mcm % n1 == 0 and mcm % n2== 0:\n",
    "        \n",
    "        #si las dos condiciones son verdaderas rompe el ciclo \n",
    "        #y toma el valor de mcm \n",
    "        break\n",
    "        \n",
    "print(\"El mcm de {} y {} es {}\".format(n1,n2,mcm))\n",
    "    "
   ]
  },
  {
   "attachments": {},
   "cell_type": "markdown",
   "metadata": {},
   "source": [
    "Actividad 2. Pedir dos números enteros y escribir el maximo común divisor. Diagrama, pseudocódigo y código.\n"
   ]
  },
  {
   "cell_type": "code",
   "execution_count": null,
   "metadata": {},
   "outputs": [
    {
     "name": "stdout",
     "output_type": "stream",
     "text": [
      "El MCD entre 12 y 18 es 6\n"
     ]
    }
   ],
   "source": [
    "\"\"\"\n",
    "24 y 22 es 2\n",
    "12 y 18 es 6\n",
    "\n",
    "otra forma\n",
    "a= eval(input(\"Introduce valor 1: \"))\n",
    "b= eval(input(\"Introduce valor 2: \"))\n",
    "divisores= []\n",
    "\n",
    "for i in range(1, a+1):\n",
    "    if a % i == 0 and b % i == 0:\n",
    "        divisores.append(i)\n",
    "\n",
    "mcd= max(divisores)\n",
    "\n",
    "print(\"El mcd entre {} y {} es {}\".format(a,b,mcd))    \n",
    "\"\"\"\n",
    "#creamos las dos variables \n",
    "a= 12\n",
    "b= 18\n",
    "\n",
    "#determinamos cuales de los valores de a y b es el menor y el \n",
    "#mayor para usarlo en la busqueda del MCD\n",
    "minimo= min(a,b)\n",
    "maximo= max(a,b)\n",
    "\n",
    "#recorremos desde 1 hasta el maximo pero al reves\n",
    "for mcd in reversed(range(1, maximo+1)):\n",
    "    #iteramos hasta sacar\n",
    "    #el resto de minimo y el maximo con mcd para determinar\n",
    "    # el minimo comun divisor y al cumplir las dos condiciones \n",
    "    #paramos porque hemos conseguido el mcd \n",
    "    if minimo % mcd == 0 and maximo % mcd== 0:\n",
    "        print(\"El MCD entre {} y {} es {}\".format(a,b, mcd))\n",
    "        break\n",
    "        \n"
   ]
  },
  {
   "attachments": {},
   "cell_type": "markdown",
   "metadata": {},
   "source": [
    "1.- Pedir datos hasta que se proporcione un entero, escribiendo entonces si ese número es par o impar.\n",
    "      - Adjunto un enlace con definición y ejemplo de la función de python isinstance() que es de utilidad para este programa.\n",
    "\n",
    "      "
   ]
  },
  {
   "cell_type": "code",
   "execution_count": null,
   "metadata": {},
   "outputs": [
    {
     "name": "stdout",
     "output_type": "stream",
     "text": [
      "5 es par \n",
      "El tipo de dato es True\n",
      "4 es par \n",
      "El tipo de dato es True\n"
     ]
    }
   ],
   "source": [
    "\"\"\"\n",
    "a= 0\n",
    "b= 1\n",
    "\n",
    "while a<= b:\n",
    "    a+=1\n",
    "    dato= eval(input(\"Introduce el dato: \"))\n",
    "    \n",
    "    if dato % 2== 0:\n",
    "        print(\"{} es par \".format(dato))\n",
    "        funcion= isinstance(dato,(int, float, str)) \n",
    "        print(\"El tipo de dato es {}\".format(funcion))\n",
    "        \n",
    "    else: \n",
    "        print(\"{} es par \".format(dato))\n",
    "        funcion= isinstance(dato, (int,float, str))\n",
    "        print(\"El tipo de dato es {}\".format(funcion))\n",
    " \"\"\"\n",
    "\n",
    "\n",
    "a=0\n",
    "b=2\n",
    "\n",
    "while a<= b: \n",
    "    a+=1\n",
    "    dato= eval(input(\"Introduce un dato: \"))\n",
    "    if isinstance(dato,int):\n",
    "        if dato % 2 == 0:\n",
    "            print(\"{} es par. \".format(dato))\n",
    "            break\n",
    "        else:\n",
    "            print(\"{} es impar. \".format(dato))\n",
    "            break\n",
    "        \n",
    " "
   ]
  },
  {
   "attachments": {},
   "cell_type": "markdown",
   "metadata": {},
   "source": [
    "2.- Pedir cadenas una a una, escribiéndolas en mayúsculas y terminando cuando se proporcione la cadena vacía.\n",
    "\n",
    "    al igual que utilizamos el método lower() para poner todo en minúsculas existe otro método para convertir a mayúsculas"
   ]
  },
  {
   "cell_type": "code",
   "execution_count": null,
   "metadata": {},
   "outputs": [
    {
     "name": "stdout",
     "output_type": "stream",
     "text": [
      "Has salido. \n"
     ]
    }
   ],
   "source": [
    "contador= 0\n",
    "limite_bucle= 3\n",
    "cadenaVacia= \"\"\n",
    "\n",
    "while contador <= limite_bucle:\n",
    "    contador = contador + 1\n",
    "    cadena= eval(input(\"Introduce la cadena: \"))\n",
    "    if cadena == cadenaVacia:\n",
    "        break\n",
    "    else:\n",
    "        cambio= cadena.upper()\n",
    "        print(\"La cadena {} se cambió  a {}\".format(cadena, cambio))\n",
    "print(\"Has salido. \")"
   ]
  },
  {
   "attachments": {},
   "cell_type": "markdown",
   "metadata": {},
   "source": [
    "3.- Pedir dos números enteros y escribir la suma de los números enteros que se encuentran en el intervalo cerrado de extremos los números proporcionados.\n",
    "\n",
    "    Con intervalo cerrado se quiere decir que los números introducidos están incluidos en la suma.\n",
    "    "
   ]
  },
  {
   "cell_type": "code",
   "execution_count": null,
   "metadata": {},
   "outputs": [
    {
     "name": "stdout",
     "output_type": "stream",
     "text": [
      "La suma de los numeros enteros entre 1 y 3 en \n",
      "      el intervalo cerrado es de 6\n"
     ]
    }
   ],
   "source": [
    "\"\"\"\n",
    "valores por parametro: \n",
    "1\n",
    "3\n",
    "\n",
    "output \n",
    "6\n",
    "\n",
    "El ejercicio quiere decir que al pedir los dos numero, por ejemplo, \n",
    "de 1 a 3, sume en el rango indicado (1+2+3=6)\n",
    "\n",
    "\"\"\"\n",
    "\n",
    "valor1= eval(input(\"Introduce valor1: \"))\n",
    "valor2=  eval(input(\"Introduce valor2: \"))\n",
    "#creamos la variable suma para realizar la suma de los numeros \n",
    "#que fueron guardados en valor1 y valor2\n",
    "suma= 0\n",
    "\n",
    "#determinamos el numero menor entre valor1 y valor2  \n",
    "minimo= min(valor1,valor2)\n",
    "\n",
    "#determinamos el numero mayor entre valor1 y valor2 \n",
    "maximo= max(valor1,valor2) \n",
    "\n",
    "#usamos el bucle for para recorrer desde el minimo hasta el maximo \n",
    "for adicion in range(minimo,maximo+1):\n",
    "    suma= suma + adicion\n",
    "    \n",
    "print(\"\"\"La suma de los numeros enteros entre {} y {} en \n",
    "      el intervalo cerrado es de {}\"\"\".format(minimo, maximo,suma))\n"
   ]
  },
  {
   "attachments": {},
   "cell_type": "markdown",
   "metadata": {},
   "source": []
  },
  {
   "attachments": {},
   "cell_type": "markdown",
   "metadata": {},
   "source": [
    "4.- Pedir un número entero mayor o igual que 0 y escribir la suma de sus dígitos."
   ]
  },
  {
   "cell_type": "code",
   "execution_count": null,
   "metadata": {},
   "outputs": [
    {
     "name": "stdout",
     "output_type": "stream",
     "text": [
      "11\n"
     ]
    }
   ],
   "source": [
    "\"\"\"\n",
    "Este ejercicio  es un claro ejemplo de una variable que se \n",
    "actualiza. \n",
    "\n",
    "n = eval(input(\"Introduce un numero entero\"))\n",
    "sum = 0\n",
    "while (n != 0):  \n",
    "    sum = sum + (n % 10) \n",
    "    n = (n//10)\n",
    "print(sum)\n",
    "\n",
    "suma_digitos suma cada uno de los digitos por cada iteracio de \n",
    "derecha a izquierda de la siguiente manera 8+1+0+2\n",
    "\n",
    "en numero usamos el valor(2018) y lo vamos despejando por cada\n",
    "iteracion, es decir, 2018, 201, 20, 2. Esto nos permite controlar\n",
    "el while para que no sea infinito y ademas permite usar el valor \n",
    "de numero para realizar la suma de los digitos.\n",
    "\"\"\"\n",
    "numero= 2018\n",
    "suma_digitos= 0\n",
    "\n",
    "while numero != 0:\n",
    "    suma_digitos= suma_digitos + numero % 10\n",
    "    numero= numero // 10\n",
    "\n",
    "print(suma_digitos)\n",
    "\n",
    "\n",
    "\n",
    "\n",
    "\n",
    "\n"
   ]
  },
  {
   "attachments": {},
   "cell_type": "markdown",
   "metadata": {},
   "source": [
    "5.- Pedir una lista no vacía de números reales y escribir la media aritmética de esos números"
   ]
  },
  {
   "cell_type": "code",
   "execution_count": null,
   "metadata": {},
   "outputs": [
    {
     "name": "stdout",
     "output_type": "stream",
     "text": [
      "La media aritmetica de [5, 8, 9] es 7.333333333333333\n"
     ]
    }
   ],
   "source": [
    "\"\"\"\n",
    "La media de [5, 8, 9] es de 7.333333333333333\n",
    "\n",
    "lista= eval(input(\"Introduce la lista de numeros: \"))\n",
    "a=0\n",
    "\n",
    "for i in lista:\n",
    "    a= a + i\n",
    "\n",
    "calculo= a / len(lista)\n",
    "\n",
    "print(\"La media de {} es de {}\".format(lista, calculo))\n",
    "\"\"\"\n",
    "\n",
    "lista= eval(input(\"Introduce una lista de notas: \"))\n",
    "notas= []\n",
    "\n",
    "for nota in lista:\n",
    "    notas.append(nota)\n",
    "\n",
    "mediaA= (sum(notas)) /len(notas)\n",
    "\n",
    "print(\"La media aritmetica de {} es {}\".format(lista,mediaA))\n",
    "\n"
   ]
  },
  {
   "attachments": {},
   "cell_type": "markdown",
   "metadata": {},
   "source": []
  },
  {
   "attachments": {},
   "cell_type": "markdown",
   "metadata": {},
   "source": [
    "6.- Pedir una lista no vacía de números reales y escribir la media geométrica de esos números.\n"
   ]
  },
  {
   "cell_type": "code",
   "execution_count": null,
   "metadata": {},
   "outputs": [
    {
     "name": "stdout",
     "output_type": "stream",
     "text": [
      "La media geometrica de [3, 4, 5] es 3.9148676411688634\n"
     ]
    }
   ],
   "source": [
    "\"\"\"\n",
    "valor por parametro: [1,2,3]\n",
    "output: La media geometrica de [1, 2, 3] es 1.8171205928321397\n",
    "\n",
    "import math\n",
    "lista_numeros= [1,2,3]\n",
    "incrementador= 1\n",
    "producto=[]\n",
    "\n",
    "for valor in lista_numeros:\n",
    "    incrementador*= valor\n",
    "    producto.append(incrementador)\n",
    "\n",
    "longitud= len(producto)\n",
    "mediaGeometrica= math.sqrt(longitud)\n",
    "print(mediaGeometrica)\n",
    "\n",
    "\"\"\"\n",
    "\n",
    "lista= eval(input(\"Introduce una lista: \"))\n",
    "\n",
    "#se inicializa en 1 para poder multiplicarlo por los elementos de la lista \n",
    "multiplicador=1\n",
    "\n",
    "#recorremos la lista\n",
    "for valor in lista:\n",
    "    #sacamos el producto de los valores de la lista con multiplicador \n",
    "    #y actualizamos multiplicador por cada iteracion \n",
    "    multiplicador= valor * multiplicador\n",
    "\n",
    "\"\"\"\n",
    "Con enesima queremos decir la anotacion de la raiz al cuadrado a N\n",
    "\n",
    "\"\"\"\n",
    "#dividimos 1 / la longitud de la lista para calcular n (es decir la longitud)\n",
    "enesima= 1 / len(lista)\n",
    "\n",
    "#finalmente sacamos la media geometrica con multiplicacion elevado a enesima\n",
    "mediaG= multiplicador ** enesima\n",
    "\n",
    "\n",
    "print(\"La media geometrica de {} es {}\".format(lista,mediaG))"
   ]
  },
  {
   "attachments": {},
   "cell_type": "markdown",
   "metadata": {},
   "source": [
    "7.-El European Article Number (EAN) es un sistema de códigos de barra adoptado por más de 100 países y cerca de 1 millón de empresas. El código EAN más usual está constituido por 13 dígitos, con una estructura dividida en 4 partes:\n",
    "\n",
    "    Los primeros dígitos identifican a través de qué organización internacional se han adscrito una empresa al sistema EAN.\n",
    "    El código de empresa es un número compuesto por entre 5 y 8 dígitos, que identifican al propietario de la marca\n",
    "    El código del producto completa los 12 primeros dígitos\n",
    "    El último dígito es un dígito de control\n",
    "\n",
    "El dígito de control se calcula como sigue:\n",
    "\n",
    "    Se suman los 12 dígitos del código, teniendo en cuenta que los que ocupan posición par hay que multiplicarlos antes por 3.\n",
    "    Se resta el resultado obtenido al múltiplo de 10 más cercano por arriba\n",
    "\n",
    "Ejemplo: El dígito de control del código 978038795475 es 2\n",
    "9+(7x3)+8+(0x3)+3+(8x3)+7+(9x3)+5+(4x3)+7+(5x3) = 138\n",
    "-> 140-138 = 2\n",
    "\n",
    "Problema: Pedir un código de 13 dígitos y escribir si ese código es o no correcto, es decir, comprobar si el dígito de control es el que debería ser"
   ]
  },
  {
   "attachments": {},
   "cell_type": "markdown",
   "metadata": {},
   "source": []
  },
  {
   "cell_type": "code",
   "execution_count": null,
   "metadata": {},
   "outputs": [
    {
     "name": "stdout",
     "output_type": "stream",
     "text": [
      "[]\n"
     ]
    }
   ],
   "source": [
    "\"\"\"\n",
    "numero = int (input (\"Introduce un numero de 13 dígitos\"))\n",
    "lista = []\n",
    "digito = 0for i in range(len(str(cod_Verificacion))):\n",
    "    if i % 2 == 0:\n",
    "        lista_Impares.append(int(str(cod_Verificacion)[i]))\n",
    "        print(lista_Impares)\n",
    "        \n",
    "    else:\n",
    "        lista_Pares.append(int((str(cod_Verificacion)[i])))\n",
    "        print(lista_Pares)\n",
    "for i in range (0,len(a)-1):\n",
    "    if i%2==0:\n",
    "        suma += a[i]\n",
    "    else:\n",
    "        suma += (a[i]*3)\n",
    "digito = suma-suma%10+10\n",
    "clave = digito-suma\n",
    "print (clave== (lista[::-1][12]))\n",
    "\"\"\"\n",
    "\n",
    "#9780387954752\n",
    "digito_completo= eval(input(\"Pon el codigo: \"))\n",
    "\n",
    "listaImpares= []\n",
    "listaPares= []\n",
    "\n",
    "# digito_control = 2\n",
    "digito_control= digito_completo % 10\n",
    "\n",
    "#digito_producto= 978038795475\n",
    "digito_producto= digito_completo //10\n",
    "\n",
    "#recorre los indices de digito_producto y guarda cada uno en dig\n",
    "#9 7 8 0 3 8 7 9 5 4 7  5\n",
    "#0 1 2 3 4 5 6 7 8 9 10 11\n",
    "for dig in range(len(str(digito_producto))):\n",
    "    \"\"\"\n",
    "    recorre cada indice y si un indice modulo de 2 \n",
    "    da igual a 0 agrega el valor del indice a listaImpares \n",
    "    o impares\n",
    "    \"\"\"\n",
    "    if dig % 2 == 0:\n",
    "        listaImpares.append(int(str(digito_producto)[dig]))\n",
    "        \n",
    "    else:\n",
    "        listaPares.append(int(str(digito_producto)[dig]))\n",
    "\n",
    "#multiplicar cada valor de lista pares por 3 y luego suma \n",
    "#listaImpares[39] y listaPares[99] y lo guarda en suma= 138       \n",
    "suma=  sum(listaImpares) + sum(listaPares*3)\n",
    "\n",
    "#138\n",
    "multiplo= suma\n",
    "\n",
    "#138,139 % 10 hasta que multiplo(140) % 10 sea 0\n",
    "while multiplo % 10 != 0:\n",
    "    multiplo= multiplo +1\n",
    "\n",
    "#140- 138= 2\n",
    "resta= multiplo - suma \n",
    "\n",
    "#2 == 2: es correcto\n",
    "if resta == digito_control:\n",
    "    print(\"Es correcto. \")\n",
    "else:\n",
    "    print(\"No es correcto.\")    \n",
    "\n",
    "\n",
    "\n",
    "\n",
    "\n"
   ]
  },
  {
   "cell_type": "code",
   "execution_count": 2,
   "metadata": {},
   "outputs": [
    {
     "name": "stdout",
     "output_type": "stream",
     "text": [
      "Es correcto. \n"
     ]
    }
   ],
   "source": [
    "#otra forma\n",
    "codigo = int(9780387954752)\n",
    "\n",
    "digito_control = codigo%10\n",
    "\n",
    "#print(digito_control)\n",
    "\n",
    "codigo_producto = codigo//10\n",
    "\n",
    "#print(codigo_producto)\n",
    "\n",
    "suma = 0\n",
    "\n",
    "contador = 1\n",
    "\n",
    "while 0 < codigo_producto :\n",
    "\n",
    "    digito = codigo_producto%10\n",
    "\n",
    "    #print(codigo_producto)\n",
    "\n",
    "    #print(digito)\n",
    "\n",
    "    \n",
    "\n",
    "    if contador%2 != 0:\n",
    "\n",
    "        suma=  suma + (digito*3)\n",
    "\n",
    "    else:\n",
    "\n",
    "        suma= suma + digito\n",
    "\n",
    "    contador +=1\n",
    "\n",
    "    codigo_producto = codigo_producto//10\n",
    "\n",
    "multiplo= suma\n",
    "\n",
    "#138,139 % 10 hasta que multiplo(140) % 10 sea 0\n",
    "while multiplo % 10 != 0:\n",
    "    multiplo= multiplo +1\n",
    "\n",
    "#140- 138= 2\n",
    "resta= multiplo - suma \n",
    "\n",
    "#2 == 2: es correcto\n",
    "if resta == digito_control:\n",
    "    print(\"Es correcto. \")\n",
    "else:\n",
    "    print(\"No es correcto.\")  \n"
   ]
  },
  {
   "attachments": {},
   "cell_type": "markdown",
   "metadata": {},
   "source": [
    "Pedir dos numeros y escribir si en el intervalo cerrado determinado hay multiplo de 3"
   ]
  },
  {
   "cell_type": "code",
   "execution_count": null,
   "metadata": {},
   "outputs": [
    {
     "name": "stdout",
     "output_type": "stream",
     "text": [
      "Hay algún múltiplo de 3\n"
     ]
    }
   ],
   "source": [
    "\"\"\"\n",
    "parameros 3 y 5= 3*5 5*3=15 (multiplo)\n",
    "\"\"\"\n",
    "a = eval (input(\"Introducir un número\"))\n",
    "b = eval (input (\"Introducir otro número\"))\n",
    "for i in range (a,b+1):\n",
    "    if (i%3) ==0 and i!=0:\n",
    "        print (\"Hay algún múltiplo de 3\")\n",
    "        break\n",
    "else:\n",
    "    print (\"No hay múltiplos de 3\")"
   ]
  },
  {
   "attachments": {},
   "cell_type": "markdown",
   "metadata": {},
   "source": [
    "Pedir una lista de cadenas y una longitud mínima y escribir cuántas cadenas alcanzan esa longitud mínima y cuántas no."
   ]
  },
  {
   "cell_type": "code",
   "execution_count": null,
   "metadata": {},
   "outputs": [],
   "source": [
    "\"\"\"\n",
    "#[\"hola\", \"aaa\", \"bbb\"]\n",
    "#4\n",
    "\n",
    "cadena_lista= eval(input('Introduce una lista de cadena: '))\n",
    "longitud_cadena= eval(input('Introduce la longitud mínima de la cadena: '))\n",
    "longitud_minima= []\n",
    "num_long_min= []\n",
    "num_long_max= []\n",
    "longitud_fuera=[]\n",
    "\n",
    "for i in cadena_lista:\n",
    "    if len(str(i)) == longitud_cadena:\n",
    "        longitud_minima.append(i)\n",
    "        num_long_min.append(len(i))\n",
    "    else:\n",
    "        longitud_fuera.append(i)\n",
    "        num_long_max.append(len(i))\n",
    "\n",
    "print(\"Las que cumplen la longitud mínima son :\", longitud_minima, \" y el número de las cadenas son \", num_long_min)\n",
    "print(\"Las que no cumplen con la longitud mínima son\", longitud_fuera, \" y el número de las cadenas son \", num_long_max)\n",
    "\n",
    "\"\"\"\n",
    "#lista_cadena= [\"hola\", \"adios\", \"led\", \"sevilla\"]\n",
    "def longitud_min_max(lista_cadena):\n",
    "    longitud= 3\n",
    "    longitud_minima=[]\n",
    "    longitud_fuera=[]\n",
    "    for cadena in lista_cadena:\n",
    "        if len(cadena) == longitud:\n",
    "            longitud_minima.append(cadena)\n",
    "        \n",
    "        else: \n",
    "            longitud_fuera.append(cadena)\n",
    "        \n",
    "    print(\"La longitud minima es \", longitud_minima)\n",
    "    print(\"La longitud fuera es \", longitud_fuera)\n",
    "\n",
    "longitud_min_max([\"hola\", \"adios\", \"led\", \"sevilla\"])\n",
    "\n"
   ]
  },
  {
   "attachments": {},
   "cell_type": "markdown",
   "metadata": {},
   "source": [
    "Pedir un número entero positivo y escribir si es o no primo\n",
    "Número primo: Número natural mayor que 1 que tiene únicamente dos divisores propios, el mismo y el 1.\n"
   ]
  },
  {
   "cell_type": "code",
   "execution_count": null,
   "metadata": {},
   "outputs": [
    {
     "name": "stdout",
     "output_type": "stream",
     "text": [
      "[1, 3]\n",
      "El numero 3 es primo. \n"
     ]
    }
   ],
   "source": [
    "\"\"\"\n",
    "parametro:10\n",
    "\n",
    "\n",
    "\"\"\"\n",
    "numero= eval(input(\"Introduce un numero entero: \"))\n",
    "divisores= []\n",
    "\n",
    "for divisor in range(1, numero+1):\n",
    "    if numero % divisor == 0:\n",
    "        divisores.append(divisor)\n",
    "\n",
    "print(divisores)\n",
    "if (len(divisores)) ==2:\n",
    "    print(\"El numero {} es primo. \".format(numero))\n",
    "else:\n",
    "    print(\"El numero {} no es primo. \".format(numero))\n"
   ]
  },
  {
   "attachments": {},
   "cell_type": "markdown",
   "metadata": {},
   "source": [
    "Pedir dos números enteros positivos y escribir si son primos entre sí.\n",
    "A y b son primos entre si, si y sólo si su máximo común divisor es 1\n"
   ]
  },
  {
   "cell_type": "code",
   "execution_count": null,
   "metadata": {},
   "outputs": [],
   "source": [
    "\"\"\"\n",
    "3 y 7 debe decirte que son primos \n",
    "\"\"\"\n",
    "\n",
    "a= eval(input(\"Introduce el primer valor: \"))\n",
    "b= eval(input(\"Introduce el primer valor: \"))\n",
    "\n",
    "contador=0\n",
    "maximo= max(a,b)\n",
    "minimo= min(a,b)\n",
    "\n",
    "for i in range(1, minimo+1):\n",
    "    if a % i == 0 and b % i == 0:\n",
    "        contador+=1\n",
    "        \n",
    "if contador == 1:\n",
    "    print(\"{} y {} son primo\".format(a,b))\n",
    "else:\n",
    "    print(\"{} y {} no son primo\".format(a,b))"
   ]
  },
  {
   "attachments": {},
   "cell_type": "markdown",
   "metadata": {},
   "source": []
  },
  {
   "attachments": {},
   "cell_type": "markdown",
   "metadata": {},
   "source": [
    "Pedir una lista y escribir cuántos números enteros positivos contiene"
   ]
  },
  {
   "cell_type": "code",
   "execution_count": null,
   "metadata": {},
   "outputs": [],
   "source": [
    "a= eval(input(\"Introduce una lista: \"))\n",
    "enteroPositivo=[]\n",
    "\n",
    "for i in a:\n",
    "    if isinstance(i, int) and i > 0:\n",
    "        enteroPositivo.append(i)\n",
    "        \n",
    "print(enteroPositivo)"
   ]
  },
  {
   "attachments": {},
   "cell_type": "markdown",
   "metadata": {},
   "source": [
    "Una matriz estocástica es una matriz cuadrada de números reales no negativos cada una de cuyas filas suma 1. Pedir una matriz cuadrada de números reales no negativos y escribir si es o no estocástica"
   ]
  },
  {
   "attachments": {},
   "cell_type": "markdown",
   "metadata": {},
   "source": []
  },
  {
   "cell_type": "code",
   "execution_count": null,
   "metadata": {},
   "outputs": [
    {
     "name": "stdout",
     "output_type": "stream",
     "text": [
      "No es una matriz estocastica. \n"
     ]
    }
   ],
   "source": [
    "\"\"\"\n",
    "matrizCuadrada=                                        \n",
    "                                        [\n",
    "                [0.25,0.25,0.50,],\n",
    "                [0.50, 0.25, 0.25,],\n",
    "                [0.25, 0.50, 0.25,],\n",
    "                                        ]\n",
    "\n",
    "[[1,0,0], [0,1,0], [1,0,0]]\n",
    "matrizCuadrada= eval(input(\"Introduce una matriz: \"))\n",
    "\n",
    "contador= 0\n",
    "for i in matrizCuadrada:\n",
    "    a= sum(i)\n",
    "    if a == 1 and a > 0 and a < 2:\n",
    "        contador+= 1\n",
    "        print(\"La fila {} es una matriz estocástica\".format(contador))\n",
    "    else:\n",
    "        print(\"La fila {} no es una matriz estocástica\".format(contador))\n",
    "        contador+= 1\n",
    "\"\"\"\n",
    "m=  [\n",
    "                [0.25,0.25,0.50,],\n",
    "                [0.50, 0.25, 0.25,],\n",
    "                [0.25, 0.50, 0.25,],\n",
    "                                        ]\n",
    "totalMatriz=[]\n",
    "\n",
    "\n",
    "for filas in m:\n",
    "    if sum(filas) == 1:\n",
    "        totalMatriz.append(filas)\n",
    "    \n",
    "\n",
    "if len(totalMatriz) == 3:\n",
    "    print(\"La Matriz si es estocastica. \")\n",
    "else:\n",
    "    print(\"La Matriz no es estocastica. \")"
   ]
  },
  {
   "cell_type": "code",
   "execution_count": null,
   "metadata": {},
   "outputs": [],
   "source": []
  },
  {
   "attachments": {},
   "cell_type": "markdown",
   "metadata": {},
   "source": [
    "Pedir un numero y verificar si es capicua"
   ]
  },
  {
   "cell_type": "code",
   "execution_count": null,
   "metadata": {},
   "outputs": [],
   "source": [
    "#1771\n",
    "numero= eval(input(\"Introduce un número: \"))\n",
    "numero_original= numero \n",
    "numero_alreves=0\n",
    "while numero != 0:\n",
    "    digito= numero%10\n",
    "    numero= numero//10\n",
    "    numero_alreves= numero_alreves * 10 + digito\n",
    "if numero_original == numero_alreves:\n",
    "    print(\"El numero {}  es capicuo \".format(numero_original))\n",
    "else:\n",
    "    print(\"El numero {}  no es capicuo \".format(numero_original))"
   ]
  },
  {
   "attachments": {},
   "cell_type": "markdown",
   "metadata": {},
   "source": [
    "Actividad 1. Pedir una lista no vacía de números enteros positivos y escribir los divisores comunes de esos números"
   ]
  },
  {
   "cell_type": "code",
   "execution_count": null,
   "metadata": {},
   "outputs": [
    {
     "name": "stdout",
     "output_type": "stream",
     "text": [
      "Los divisores comunes de [8, 12, 64] son:\n",
      "[1, 2, 4]\n"
     ]
    }
   ],
   "source": [
    "\"\"\"\n",
    "Por paramatros: [8, 12, 64]\n",
    "Output: \n",
    "Los divisores comunes de [8, 12, 64] son:\n",
    "[1, 2, 4]\n",
    "\"\"\"\n",
    "\n",
    "listaNumeros = eval(input(\"Lista de numeros enteros positivos\"))\n",
    "listaDivisores = []\n",
    "listaDivisoresComunes = []\n",
    "\n",
    "#Te selecciona los que den resto 0 del rango de 1(tres veces) \n",
    "# [con 8,12,64 ] hasta 8 (tres veces) [con 8,12,64]\n",
    "#Te selecciona los divisores\n",
    "for m in range(1,min(listaNumeros)+1):\n",
    "    for numero in listaNumeros:\n",
    "        if numero % m == 0:\n",
    "            listaDivisores.append(m)\n",
    "\n",
    "\n",
    "#Con la lista seleccionada en el anterior bucle recorre los indices\n",
    "#te selecciona los divisores comunes\n",
    "for divisor in listaDivisores:\n",
    "    if listaDivisores.count(divisor) == len(listaNumeros):\n",
    "        if divisor not in listaDivisoresComunes:\n",
    "            listaDivisoresComunes.append(divisor)\n",
    "\n",
    "print(\"Los divisores comunes de {} son: \".format(listaNumeros))\n",
    "print(listaDivisoresComunes)\n",
    "        \n",
    "    \n"
   ]
  },
  {
   "attachments": {},
   "cell_type": "markdown",
   "metadata": {},
   "source": [
    "Actividad 2. Pedir una lista y escribir todas sus sublistas.\n",
    "Ejemplo: Si tengo la lista [1,2,3] todas las sublistas son: [ ], [1], [2], [3],[1,2],[1,3],[2,3],[1,2,3]\n"
   ]
  },
  {
   "cell_type": "code",
   "execution_count": null,
   "metadata": {},
   "outputs": [
    {
     "name": "stdout",
     "output_type": "stream",
     "text": [
      "Las sublistas de [1, 2, 3] son \n",
      "[[], [1], [2], [1, 2], [3], [1, 3], [2, 3], [1, 2, 3]]\n"
     ]
    }
   ],
   "source": [
    "\"\"\"\n",
    "poner por parametro \n",
    "[1,2,3]\n",
    "\n",
    "Debe aparecer en el output:\n",
    "Las sublistas de [1, 2, 3] son \n",
    "[[], [1], [2], [1, 2], [3], [1, 3], [2, 3], [1, 2, 3]]\n",
    "\n",
    "\n",
    "\n",
    "\"\"\"\n",
    "\n",
    "lista= eval(input(\"Introduzca una lista: \"))\n",
    "sublistas=[[]]\n",
    "for dato in lista:\n",
    "    nuevas_sublistas=[]\n",
    "    for sublista in sublistas:\n",
    "    #a este nivel los valores de la lista estan pegados con \n",
    "    #la sublistas: 1 [[]], 2[[]],etc... \n",
    "        nueva_sublista= sublista[:]\n",
    "        #selecciona la sublista vacia\n",
    "        nueva_sublista.append(dato)\n",
    "        nuevas_sublistas.append(nueva_sublista)\n",
    "        #agrega los valores de dato[1,2,3]a la nueva_lista que\n",
    "        #esta vacia [[1][2],[3]]\n",
    "    sublistas.extend(nuevas_sublistas)\n",
    "    #une todos los valores en el codigo anterior y los \n",
    "    #concatena con la sublista\n",
    "print(\"Las sublistas de {} son \".format(lista))\n",
    "print(sublistas)\n",
    "\n"
   ]
  },
  {
   "attachments": {},
   "cell_type": "markdown",
   "metadata": {},
   "source": [
    "En una clase hay m alumnos a los que evaluar con n notas. Pedir los numeros enteros positivos \n",
    "m y n, pedir cada una de las notas de cada uno de los alumnos y escribir la nota media de cada alumno. "
   ]
  },
  {
   "cell_type": "code",
   "execution_count": null,
   "metadata": {},
   "outputs": [
    {
     "name": "stdout",
     "output_type": "stream",
     "text": [
      "La nota media de 1 hasta 2 es [4.5, 7.5] \n"
     ]
    }
   ],
   "source": [
    "\"\"\"\n",
    "m=eval(input(\"Introduce el numero de alumnos: \"))\n",
    "n=eval(input(\"Introduce el numero de notas: \"))\n",
    "notas_totales= []\n",
    "\n",
    "for alumno in range(1, m+1):\n",
    "    notas= []\n",
    "    for nota in  range(1,n+1):\n",
    "        notas.append(eval(input(\"Introduce la nota del alumno {}: \".format(m))))\n",
    "    mediaArit= sum(notas) / len(notas)\n",
    "    notas_totales.append(mediaArit)\n",
    "print(\"La nota media de 1 hasta {} es {} \".format(m,notas_totales))\n",
    "\n",
    "\"\"\"\n",
    "\n",
    "\"\"\"\n",
    "(numero de alumnos)m= [1,2,3] \n",
    "(numero de notas) n=3 [7,2,6]=5 , [2,4,5]= 3,6, [3,2,7]=4\n",
    "\"\"\"\n",
    "#esta primera variable vamos a conocer el total de alumnos\n",
    "alumnos_general=eval(input(\"Introduce los alumnos: \"))\n",
    "\n",
    "#la segunda es para saber el total de notas \n",
    "notas_general=eval(input(\"Introduce las notas: \"))\n",
    "\n",
    "#esta tercera va a guardar la nota definitiva de cada\n",
    "# alumno \n",
    "notas_individuales=[]\n",
    "\n",
    "#usamos la funcion range porque nos va a permitir enumerar\n",
    "#el total de alumnos y el for para seleccionar cada alumno \n",
    "#\n",
    "for alumno in range(1, alumnos_general+1):\n",
    "    #creamos la variable nota que va a guardar cada nota \n",
    "    #de los alumnos\n",
    "    notas=[]\n",
    "\n",
    "    #usamos el range para sacar el total de notas y el for \n",
    "    #para desplazarno en cada valor de notas_general\n",
    "    for nota in range(1,notas_general+1):\n",
    "        #pedimos la nota individual hasta llegar al último valor\n",
    "        #de notas_general en una lista\n",
    "        notas.append(eval(input(\"Introduce la nota individual: \")))\n",
    "\n",
    "    #Al mismo nivel del bucle interno sacamos la MA por alumno\n",
    "    #aplicamos la formula para sacar la media de cada alumno\n",
    "    mediaAritmetica= sum(notas) / len(notas)\n",
    "\n",
    "    #guardamos el resultado de la MA de cada alumno en la lista\n",
    "    #notas_individuales\n",
    "    notas_individuales.append(mediaAritmetica)\n",
    "\n",
    "print(\"\"\"La media de los alumno 1 hasta {} es {}\n",
    "\"\"\".format(alumnos_general,notas_individuales))\n"
   ]
  },
  {
   "attachments": {},
   "cell_type": "markdown",
   "metadata": {},
   "source": [
    "La criba de Eratóstenes es un algoritmo para calcular los números primos menores o iguales a un número dado. Para ello, dado el número entero mayor o igual que 2 se considera la lista de todos los números enteros desde 2 hasta n [2,3,4,5,6, ... ,n]:\n",
    "\n",
    "- Se empieza tomando el primer elemento de la lista (2) y eliminando todos los elementos que le siguen y son divisibles por él [2,3,5,7,9,11,...]\n",
    "\n",
    "- A continuación se toma el siguiente elemento de la lista (3) y se eliminan todos los elementos y se eliminan todos los elementos que le siguen y son divisibles por él [2,3,5,7,11,...]\n",
    "\n",
    "- Se procede de la misma manera tomando un elemento de la lista trá otro hasta llegar al final de la lista, en la que quedarán solamente los números primos menores o iguales que n\n",
    "\n",
    "Problema: Pedir un número entero mayor o igual que 2 y escribir los números primos menores o iguales que ese número, calculados utilizando la criba de Eratóstenes.\n",
    "\n",
    "#n= 10\n",
    "n = eval (input(\"Introduce un numero\"))\n",
    "\n",
    "#te genera una lista de [2,3,4,5,6,7,8,9,10]\n",
    "lista = list(range(2,n+1))\n",
    "criba = []\n",
    "while lista !=[]:\n",
    "    #selecciona el indice 0 de lista\n",
    "    a=lista[0]\n",
    "    criba.append(a)\n",
    "    for numero in lista:\n",
    "        if numero%a==0:\n",
    "            lista.remove(numero)\n",
    "print(\"La lista de numeros que van desde 2 hasta {} es {} \".format(n,criba))\n"
   ]
  },
  {
   "cell_type": "code",
   "execution_count": null,
   "metadata": {},
   "outputs": [],
   "source": [
    "\"\"\"\n",
    "La criba de Erastostenes: encuentra los números primos con una lista \n",
    "y el algoritmo la criba lo que hace es que separar de un rango (ejemplo\n",
    "de 2 hasta 11) de los que no son primos y los que son primos. Los cuales, \n",
    "elimina los que no son primo y deja en la lista los primos.\n",
    "\n",
    "Recordar\n",
    "Un número primo no tiene divisores, exceptuando el 1 y su mismo número \n",
    "(m). \n",
    "\n",
    "Además, si un número a es multiplo de b, entonces b es divisor de a.\n",
    "\n",
    "Metodo\n",
    "Se empieza desde 2 porque 1 no es primo.\n",
    "\n",
    "Si tienes una lista de 2 a 100, se quitan los multiplos de 2,3,4, etc \n",
    "(de manera ascendete va quitando los multiplos) \n",
    "\"\"\"\n",
    "#Output: 10 es [2,3,5,7]\n",
    "\n",
    "valor= 10 \n",
    "#crea lista con constructor list en rango de 2 a valor (9) +1 (10)\n",
    "lista= list(range(2,valor+1))\n",
    "\n",
    "#creamos la variable criba que guardara \n",
    "# resultado de los numeros primos después de descartar lo que no \n",
    "#primos\n",
    "criba=[]\n",
    "\n",
    "#usamos un bucle para seleccionar y descartar los que no son primos \n",
    "# y terminara cuando lista quede vacia con el remove\n",
    "while lista != []:\n",
    "    #seleccionamamos el valor del indice 0\n",
    "    a= lista[0] \n",
    "    #agregamos el valor de a a criba para sacar el modulo y descartar\n",
    "    #los numeros que no son primos \n",
    "    criba.append(a)\n",
    "    \n",
    "    #recorremos la lista con sus índices para quitar y agregar los \n",
    "    #numeros primos y los que no \n",
    "    for numero in lista:\n",
    "        #seleccionamos los que son igual a o con mod\n",
    "        if numero % a == 0:\n",
    "            #cambiamos el valor del indice de lista con el valor de\n",
    "            #numero\n",
    "            lista.remove(numero)\n",
    "            \n",
    "print(\"Los numeros primos de 2 hasta {} son {}\".format(valor, criba))"
   ]
  }
 ],
 "metadata": {
  "kernelspec": {
   "display_name": "Python 3 (ipykernel)",
   "language": "python",
   "name": "python3"
  },
  "language_info": {
   "codemirror_mode": {
    "name": "ipython",
    "version": 3
   },
   "file_extension": ".py",
   "mimetype": "text/x-python",
   "name": "python",
   "nbconvert_exporter": "python",
   "pygments_lexer": "ipython3",
   "version": "3.10.6"
  },
  "vscode": {
   "interpreter": {
    "hash": "916dbcbb3f70747c44a77c7bcd40155683ae19c65e1c03b4aa3499c5328201f1"
   }
  }
 },
 "nbformat": 4,
 "nbformat_minor": 2
}
