{
 "cells": [
  {
   "cell_type": "markdown",
   "metadata": {},
   "source": [
    "Conjetura de Goldbach. \"Todo número entero par estrictamente mayor que 2 se puede escribir como suma de dos números primos\".   \n",
    "Problema: dado un número entero par mayor que 2, encontrar una tupla de dos números primos cuya suma coincida con el número.\n"
   ]
  },
  {
   "cell_type": "code",
   "execution_count": null,
   "metadata": {},
   "outputs": [],
   "source": [
    "\"\"\"\n",
    "14\n",
    "7+7=14\n",
    "7+7=14\n",
    "(7,7)\n",
    "\"\"\"\n",
    "\n",
    "def funcion_divisores(dividendo):\n",
    "    lista_divisores = []\n",
    "    for divisor in range(1,dividendo+1):\n",
    "        if dividendo % divisor == 0:\n",
    "            lista_divisores.append(divisor)\n",
    "    return lista_divisores\n",
    "\n",
    "funcion_divisores(7)\n",
    "\n",
    "def seleccion_primo(numero):\n",
    "    lista_numeros_primo = []\n",
    "    for primo in range(2,numero+1):\n",
    "        if len(funcion_divisores(primo)) == 2:\n",
    "            lista_numeros_primo.append(primo) \n",
    "    return lista_numeros_primo\n",
    "\n",
    "    \n",
    "seleccion_primo(14)\n",
    "\n",
    "def definicion_goldbach(numeroPar):\n",
    "    for numero1 in seleccion_primo(numeroPar):\n",
    "        for numero2 in seleccion_primo(numeroPar):\n",
    "            if numero1 + numero2 == numeroPar:\n",
    "                return (numero1, numero2)\n",
    "\n",
    "definicion_goldbach(14)"
   ]
  }
 ],
 "metadata": {
  "kernelspec": {
   "display_name": "Python 3.8.10 64-bit",
   "language": "python",
   "name": "python3"
  },
  "language_info": {
   "codemirror_mode": {
    "name": "ipython",
    "version": 3
   },
   "file_extension": ".py",
   "mimetype": "text/x-python",
   "name": "python",
   "nbconvert_exporter": "python",
   "pygments_lexer": "ipython3",
   "version": "3.10.6"
  },
  "orig_nbformat": 4,
  "vscode": {
   "interpreter": {
    "hash": "916dbcbb3f70747c44a77c7bcd40155683ae19c65e1c03b4aa3499c5328201f1"
   }
  }
 },
 "nbformat": 4,
 "nbformat_minor": 2
}
