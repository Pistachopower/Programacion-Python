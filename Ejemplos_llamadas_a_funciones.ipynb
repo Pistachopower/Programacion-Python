{
 "cells": [
  {
   "cell_type": "markdown",
   "metadata": {},
   "source": [
    "Ejemplos:\n",
    "https://www.youtube.com/watch?v=G1TAe9_Kedc"
   ]
  },
  {
   "cell_type": "code",
   "execution_count": null,
   "metadata": {},
   "outputs": [],
   "source": [
    "def cuadrado(n):\n",
    "    return n ** 2\n",
    "\n",
    "def cubo(n):\n",
    "    return n ** 3\n",
    "\n",
    "def doble(n):\n",
    "    return n * 2\n",
    "\n",
    "#llamar desde una funcion a otra funcion\n",
    "def ejecutar(funcion, n):\n",
    "#recuerda que al llamar a otra funcion desde otra debes colocar tambien los parametros\n",
    "#que tiene la funcion llamada\n",
    "    return funcion(n)\n",
    "\n",
    "\n",
    "resultado= ejecutar(doble,5)\n",
    "\n",
    "print(resultado)\n",
    "\n",
    "cuadrado(5)"
   ]
  },
  {
   "cell_type": "code",
   "execution_count": 11,
   "metadata": {},
   "outputs": [
    {
     "name": "stdout",
     "output_type": "stream",
     "text": [
      "('nelson', 'galicia')\n"
     ]
    }
   ],
   "source": [
    "def nombre(n, g):\n",
    "    return n, g\n",
    "\n",
    "def edad(e):\n",
    "    return e\n",
    "\n",
    "def sexo(s):\n",
    "    return s\n",
    "\n",
    "def llamado_funcion(funcion,parametros,parametros2):\n",
    "    return parametros,parametros2\n",
    "\n",
    "datos= llamado_funcion(nombre,'nelson','galicia')\n",
    "\n",
    "print(datos)"
   ]
  },
  {
   "cell_type": "code",
   "execution_count": null,
   "metadata": {},
   "outputs": [],
   "source": [
    "#crea un rango de numeros y ordenalos en una lista de pares e impares\n",
    "#7 y 10 = [7,8,9,10]\n",
    "\n",
    "def rango_de_numeros(a,b):\n",
    "    rango_final=[]\n",
    "    for numero in range(a,b+1):\n",
    "        rango_final.append(numero)\n",
    "    return rango_final\n",
    "\n",
    "#rango_de_numeros(7,10)\n",
    "\n",
    "def ordenar_pares_impares(funcion,numero1,numero2):\n",
    "    pares=[]\n",
    "    impares=[]\n",
    "    \n",
    "    for valor in funcion(numero1,numero2):\n",
    "        if valor % 2 == 0:\n",
    "            pares.append(valor)\n",
    "            #print(pares)\n",
    "\n",
    "        else:\n",
    "            impares.append(valor)\n",
    "            #print(impares) \n",
    "    texto1,texto2 = 'Pares: ', 'Impares: '\n",
    "    return texto1 + str(pares) + ' ' + texto2 + str(impares)\n",
    "\n",
    "\n",
    "ordenar_pares_impares(rango_de_numeros,6,10)"
   ]
  },
  {
   "cell_type": "code",
   "execution_count": 13,
   "metadata": {},
   "outputs": [
    {
     "data": {
      "text/plain": [
       "21"
      ]
     },
     "execution_count": 13,
     "metadata": {},
     "output_type": "execute_result"
    }
   ],
   "source": [
    "def mayusculas(texto):\n",
    "    return texto.upper()\n",
    "\n",
    "def minusculas(texto):\n",
    "    return texto.lower()\n",
    "\n",
    "def longitud(texto):\n",
    "    return len(texto)\n",
    "\n",
    "def mensajes(funcion):\n",
    "    saludos= funcion(\"saludos desde sevilla\")\n",
    "    return saludos\n",
    "\n",
    "mensajes(longitud)"
   ]
  },
  {
   "cell_type": "code",
   "execution_count": 29,
   "metadata": {},
   "outputs": [
    {
     "name": "stdout",
     "output_type": "stream",
     "text": [
      "[4, 6, 8]\n"
     ]
    }
   ],
   "source": [
    "def suma_lista(a,b):\n",
    "    lista_suma=[]\n",
    "    for indice in range(len(a)):\n",
    "        lista_suma.append(a[indice] + b[indice])\n",
    "    return lista_suma\n",
    "\n",
    "print(suma_lista([1,2,3],[3,4,5]))"
   ]
  },
  {
   "cell_type": "code",
   "execution_count": 67,
   "metadata": {},
   "outputs": [
    {
     "name": "stdout",
     "output_type": "stream",
     "text": [
      "padre\n",
      "[1, 2]\n",
      "hijo\n",
      "[4, 5]\n",
      "hijo\n",
      "[2, 3]\n",
      "padre\n",
      "[5, 3]\n",
      "hijo\n",
      "[4, 5]\n",
      "hijo\n",
      "[2, 3]\n",
      "[4, 10, 10, 9]\n"
     ]
    }
   ],
   "source": [
    "#def suma_matrices(matriz1, matriz2):\n",
    "\n",
    "matriz1=[[1,2],[5,3]]\n",
    "matriz2=[[4,5], [2,3]]\n",
    "\n",
    "suma=[]\n",
    "\n",
    "for valor in range(len(matriz1)):\n",
    "    print('padre')\n",
    "    print(matriz1[valor])\n",
    "    for valor2 in range(len(matriz2)):\n",
    "        print('hijo')\n",
    "        print(matriz2[valor2])\n",
    "        suma.append(matriz1[valor][valor2]*matriz2[valor][valor2])\n",
    "\n",
    "print(suma)"
   ]
  },
  {
   "cell_type": "code",
   "execution_count": 70,
   "metadata": {},
   "outputs": [
    {
     "name": "stdout",
     "output_type": "stream",
     "text": [
      "[3, 7, 6, 9]\n"
     ]
    }
   ],
   "source": [
    "a= [[2,5],[3,5]]\n",
    "b= [[1,2],[3,4]]\n",
    "suma_matriz=[]\n",
    "\n",
    "for valores in range(len(a)):\n",
    "    for valores2 in range(len(b)):\n",
    "        suma_matriz.append(a[valores][valores2] + b[valores][valores2])\n",
    "\n",
    "\n",
    "print(suma_matriz)"
   ]
  },
  {
   "cell_type": "code",
   "execution_count": 75,
   "metadata": {},
   "outputs": [
    {
     "data": {
      "text/plain": [
       "[3, 7, 4, 6]"
      ]
     },
     "execution_count": 75,
     "metadata": {},
     "output_type": "execute_result"
    }
   ],
   "source": [
    "def suma_matrices(a,b):\n",
    "    suma_matriz=[]\n",
    "    for A in range(len(a)):\n",
    "        for B in range(len(b)):\n",
    "            suma_matriz.append(a[A][B] + b[A][B])\n",
    "    return suma_matriz\n",
    "\n",
    "suma_matrices([[2,5],[3,5]],[[1,2],[3,4]])\n",
    "\n",
    "\n",
    "def recorrer_suma(matriz):\n",
    "    return matriz\n",
    "\n",
    "recorrer_suma(suma_matrices([[2,5],[3,5]],[[1,2],[1,1]]))\n"
   ]
  }
 ],
 "metadata": {
  "kernelspec": {
   "display_name": "Python 3 (ipykernel)",
   "language": "python",
   "name": "python3"
  },
  "language_info": {
   "codemirror_mode": {
    "name": "ipython",
    "version": 3
   },
   "file_extension": ".py",
   "mimetype": "text/x-python",
   "name": "python",
   "nbconvert_exporter": "python",
   "pygments_lexer": "ipython3",
   "version": "3.10.6"
  },
  "vscode": {
   "interpreter": {
    "hash": "916dbcbb3f70747c44a77c7bcd40155683ae19c65e1c03b4aa3499c5328201f1"
   }
  }
 },
 "nbformat": 4,
 "nbformat_minor": 2
}
