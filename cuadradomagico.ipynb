{
 "cells": [
  {
   "cell_type": "code",
   "execution_count": 1,
   "metadata": {},
   "outputs": [],
   "source": [
    "def es_cuadrado_magico(M):\n",
    "    return filas_suman_igual(M) and columnas_suman_igual(M) and diagonales_suman_igual(M)\n",
    "\n",
    "def filas_suman_igual(M):\n",
    "    suma = []\n",
    "    suman_igual = True\n",
    "    for fila in M:\n",
    "        suma.append(sum(fila))\n",
    "    if len(set(suma)) != 1:\n",
    "        suman_igual = False\n",
    "    return suman_igual\n",
    "\n",
    "def columnas_suman_igual(M):\n",
    "    numero_columnas = len(M[0])\n",
    "    numero_filas = len(M)\n",
    "    suma = []\n",
    "    suman_igual = True\n",
    "    for j in  range(numero_columnas):\n",
    "        lista_columna = []\n",
    "        for i in range(numero_filas):\n",
    "            lista_columna.append(M[i][j])\n",
    "        suma.append(sum(lista_columna))\n",
    "    if len(set(suma)) != 1:\n",
    "        suman_igual = False\n",
    "    return suman_igual\n",
    "\n",
    "def diagonales_suman_igual(M):\n",
    "    suman_igual = True\n",
    "    suma1 = 0\n",
    "    suma2 = 0\n",
    "    for i in range(numero_filas):\n",
    "        suma1 += M[i][i]\n",
    "        suma2 += M[i][numero_filas-1-i]\n",
    "    if suma1 != suma2:\n",
    "        suman_igual = False\n",
    "    return suman_igual"
   ]
  },
  {
   "cell_type": "code",
   "execution_count": null,
   "metadata": {},
   "outputs": [],
   "source": []
  }
 ],
 "metadata": {
  "kernelspec": {
   "display_name": "Python 3 (ipykernel)",
   "language": "python",
   "name": "python3"
  },
  "language_info": {
   "codemirror_mode": {
    "name": "ipython",
    "version": 3
   },
   "file_extension": ".py",
   "mimetype": "text/x-python",
   "name": "python",
   "nbconvert_exporter": "python",
   "pygments_lexer": "ipython3",
   "version": "3.10.6"
  },
  "vscode": {
   "interpreter": {
    "hash": "916dbcbb3f70747c44a77c7bcd40155683ae19c65e1c03b4aa3499c5328201f1"
   }
  }
 },
 "nbformat": 4,
 "nbformat_minor": 2
}
