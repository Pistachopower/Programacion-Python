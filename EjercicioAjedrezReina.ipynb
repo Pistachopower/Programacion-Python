{
 "cells": [
  {
   "cell_type": "markdown",
   "metadata": {},
   "source": [
    "Asi se crea un tablero con la posicion en forma de matriz\n",
    "\n",
    "\n",
    "def tablero(n):\n",
    "    lista_vacia=[]\n",
    "    for i in range(n):\n",
    "        lista=[]\n",
    "        for j in range(n):\n",
    "            lista.append((i,j))\n",
    "        lista_vacia.append(lista)\n",
    "    return lista_vacia\n",
    "\n",
    "\n",
    "tablero(4)"
   ]
  },
  {
   "cell_type": "code",
   "execution_count": 3,
   "metadata": {},
   "outputs": [
    {
     "data": {
      "text/plain": [
       "(0, 2)"
      ]
     },
     "execution_count": 3,
     "metadata": {},
     "output_type": "execute_result"
    }
   ],
   "source": [
    "\"\"\"\n",
    "[[(0,0),(0,1),(0,2),(0,3)],\n",
    "[(1,0),(1,1),(1,2),(1,3)],\n",
    "[(2,0),(2,1),(2,2),(2,3)],\n",
    "[(3,0),(3,1),(3,2),(3,3)]]\n",
    "\n",
    "\n",
    "reina= (0,2) posicion \n",
    "\n",
    "resultado= [(0,0),(0,1),(0,2),(0,3),\n",
    "            (0,2),\n",
    "            (1,2),\n",
    "            (2,2),\n",
    "            (2,2),\n",
    "            (3,2),\n",
    "            \n",
    "            (0,2),\n",
    "                (1,3)]\n",
    "\n",
    "def posicion_reina(fila, columna):\n",
    "    return (fila, columna)\n",
    "\n",
    "\n",
    "\n",
    "\n",
    "posicion_reina(0,2)\n",
    "\"\"\"\n",
    "\n"
   ]
  },
  {
   "cell_type": "code",
   "execution_count": 16,
   "metadata": {},
   "outputs": [
    {
     "data": {
      "text/plain": [
       "[0, 1, 2, 3]"
      ]
     },
     "execution_count": 16,
     "metadata": {},
     "output_type": "execute_result"
    }
   ],
   "source": [
    "#esto es para crear un numero de x a y \n",
    "#sea cual sea\n",
    "def funcion(numero):\n",
    "    lista_vacia=[]\n",
    "    for i in range(numero):\n",
    "        lista_vacia.append(i)\n",
    "    return lista_vacia\n",
    "\n",
    "funcion(4)\n",
    "\n"
   ]
  },
  {
   "cell_type": "code",
   "execution_count": 21,
   "metadata": {},
   "outputs": [
    {
     "data": {
      "text/plain": [
       "[(0, 0),\n",
       " (0, 1),\n",
       " (0, 2),\n",
       " (0, 3),\n",
       " (1, 0),\n",
       " (1, 1),\n",
       " (1, 2),\n",
       " (1, 3),\n",
       " (2, 0),\n",
       " (2, 1),\n",
       " (2, 2),\n",
       " (2, 3),\n",
       " (3, 0),\n",
       " (3, 1),\n",
       " (3, 2),\n",
       " (3, 3)]"
      ]
     },
     "execution_count": 21,
     "metadata": {},
     "output_type": "execute_result"
    }
   ],
   "source": [
    "#aqui hacemos la posicion del tablero de n filas y n columnas \n",
    "\n",
    "def tablero(n):\n",
    "    lista_vacia=[]\n",
    "    for i in range(n):\n",
    "        for j in range(n):\n",
    "            lista_vacia.append((i,j))\n",
    "    return lista_vacia\n",
    "\n",
    "\n",
    "tablero(4)\n",
    "\n"
   ]
  },
  {
   "cell_type": "code",
   "execution_count": 23,
   "metadata": {},
   "outputs": [
    {
     "data": {
      "text/plain": [
       "{(0, 0): 'vacia',\n",
       " (0, 1): 'vacia',\n",
       " (0, 2): 'vacia',\n",
       " (0, 3): 'vacia',\n",
       " (1, 0): 'vacia',\n",
       " (1, 1): 'vacia',\n",
       " (1, 2): 'vacia',\n",
       " (1, 3): 'vacia',\n",
       " (2, 0): 'vacia',\n",
       " (2, 1): 'vacia',\n",
       " (2, 2): 'vacia',\n",
       " (2, 3): 'vacia',\n",
       " (3, 0): 'vacia',\n",
       " (3, 1): 'vacia',\n",
       " (3, 2): 'vacia',\n",
       " (3, 3): 'vacia'}"
      ]
     },
     "execution_count": 23,
     "metadata": {},
     "output_type": "execute_result"
    }
   ],
   "source": [
    "#aqui estamos agregando en las casillas la palabra vacia para referirnos \n",
    "# a que no existe todavia la reina. Es decir, un tablero generico\n",
    "def tablero_vacio(n):\n",
    "    diccionario= dict()\n",
    "    for tupla in tablero(n):\n",
    "        diccionario[tupla]= \"vacia\"\n",
    "    return diccionario\n",
    "\n",
    "tablero_vacio(4)"
   ]
  },
  {
   "cell_type": "code",
   "execution_count": 27,
   "metadata": {},
   "outputs": [
    {
     "data": {
      "text/plain": [
       "{(0, 0): 'vacia',\n",
       " (0, 1): 'vacia',\n",
       " (0, 2): 'vacia',\n",
       " (0, 3): 'vacia',\n",
       " (1, 0): 'dominada',\n",
       " (1, 1): 'dominada',\n",
       " (1, 2): 'dominada',\n",
       " (1, 3): 'dominada',\n",
       " (2, 0): 'vacia',\n",
       " (2, 1): 'vacia',\n",
       " (2, 2): 'vacia',\n",
       " (2, 3): 'vacia',\n",
       " (3, 0): 'vacia',\n",
       " (3, 1): 'vacia',\n",
       " (3, 2): 'vacia',\n",
       " (3, 3): 'vacia'}"
      ]
     },
     "execution_count": 27,
     "metadata": {},
     "output_type": "execute_result"
    }
   ],
   "source": [
    "#colocamos la reina en la posicion tupla y vamos a ver las fila que domina \n",
    "def filas_dominadas(n,tupla):\n",
    "    i, j= tupla \n",
    "    diccionario= tablero_vacio(n)\n",
    "    for indice in range(n):\n",
    "        diccionario[(i,indice)]='dominada'\n",
    "    return diccionario\n",
    "\n",
    "\n",
    "filas_dominadas(4,(1,0))\n"
   ]
  },
  {
   "cell_type": "code",
   "execution_count": 28,
   "metadata": {},
   "outputs": [
    {
     "data": {
      "text/plain": [
       "{(0, 0): 'dominada',\n",
       " (0, 1): 'vacia',\n",
       " (0, 2): 'vacia',\n",
       " (0, 3): 'vacia',\n",
       " (1, 0): 'dominada',\n",
       " (1, 1): 'vacia',\n",
       " (1, 2): 'vacia',\n",
       " (1, 3): 'vacia',\n",
       " (2, 0): 'dominada',\n",
       " (2, 1): 'vacia',\n",
       " (2, 2): 'vacia',\n",
       " (2, 3): 'vacia',\n",
       " (3, 0): 'dominada',\n",
       " (3, 1): 'vacia',\n",
       " (3, 2): 'vacia',\n",
       " (3, 3): 'vacia'}"
      ]
     },
     "execution_count": 28,
     "metadata": {},
     "output_type": "execute_result"
    }
   ],
   "source": [
    "def filas_dominadas(n,tupla):\n",
    "    i, j= tupla \n",
    "    diccionario= tablero_vacio(n)\n",
    "    for indice in range(n):\n",
    "        diccionario[(indice,j)]='dominada'\n",
    "    return diccionario\n",
    "\n",
    "\n",
    "filas_dominadas(4,(1,0))"
   ]
  }
 ],
 "metadata": {
  "kernelspec": {
   "display_name": "Python 3 (ipykernel)",
   "language": "python",
   "name": "python3"
  },
  "language_info": {
   "codemirror_mode": {
    "name": "ipython",
    "version": 3
   },
   "file_extension": ".py",
   "mimetype": "text/x-python",
   "name": "python",
   "nbconvert_exporter": "python",
   "pygments_lexer": "ipython3",
   "version": "3.10.6"
  },
  "vscode": {
   "interpreter": {
    "hash": "916dbcbb3f70747c44a77c7bcd40155683ae19c65e1c03b4aa3499c5328201f1"
   }
  }
 },
 "nbformat": 4,
 "nbformat_minor": 2
}
