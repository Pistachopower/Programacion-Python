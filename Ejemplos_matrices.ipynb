{
 "cells": [
  {
   "cell_type": "code",
   "execution_count": null,
   "metadata": {},
   "outputs": [],
   "source": [
    "    #def redimensionar(self,valor):\n",
    "    #    matriz= []\n",
    "    #    for filas_col in range(self.matriz):\n",
    "    #        matriz.append([])\n",
    "    #        for agregado in range(self.matriz):\n",
    "    #            if filas_col != agregado:\n",
    "    #                matriz[filas_col].append(0)\n",
    "    #   return matriz"
   ]
  },
  {
   "cell_type": "code",
   "execution_count": 2,
   "metadata": {},
   "outputs": [
    {
     "name": "stdout",
     "output_type": "stream",
     "text": [
      "[[0, 0, 0, 0, 0, 0], [0, 0, 0, 0, 0, 0], [0, 0, 0, 0, 0, 0], [0, 0, 0, 0, 0, 0], [0, 0, 0, 0, 0, 0], [0, 0, 0, 0, 0, 0]]\n"
     ]
    }
   ],
   "source": [
    "filas=6\n",
    "columnas=6\n",
    "\n",
    "matriz=[]\n",
    "for f in range(filas):\n",
    "    matriz.append([])\n",
    "    for c in range(columnas):\n",
    "        matriz[f].append(0)\n",
    "\n",
    "print(matriz)"
   ]
  },
  {
   "cell_type": "code",
   "execution_count": null,
   "metadata": {},
   "outputs": [],
   "source": [
    "print(\"******BIENVENIDO AL CREADOR DE MATRICES******\")\n",
    "\n",
    "Filas = int(input(\" Seleccione el numero de filas: \"))\n",
    "\n",
    "Columnas = int(input(\" Seleccione el numero de columnas: \" ))\n",
    "\n",
    " \n",
    "\n",
    "Matriz = [[0] * Columnas for i in range(Filas)]\n",
    "\n",
    " \n",
    "\n",
    "for x in range(Filas):\n",
    "\n",
    "    for y in range(Columnas):\n",
    "\n",
    "        Matriz[x][y]=random.randrange(100)\n",
    "\n",
    " \n",
    "\n",
    "for j in Matriz:\n",
    "\n",
    "    print(j)"
   ]
  }
 ],
 "metadata": {
  "kernelspec": {
   "display_name": "Python 3",
   "language": "python",
   "name": "python3"
  },
  "language_info": {
   "codemirror_mode": {
    "name": "ipython",
    "version": 3
   },
   "file_extension": ".py",
   "mimetype": "text/x-python",
   "name": "python",
   "nbconvert_exporter": "python",
   "pygments_lexer": "ipython3",
   "version": "3.10.6"
  },
  "orig_nbformat": 4,
  "vscode": {
   "interpreter": {
    "hash": "916dbcbb3f70747c44a77c7bcd40155683ae19c65e1c03b4aa3499c5328201f1"
   }
  }
 },
 "nbformat": 4,
 "nbformat_minor": 2
}
