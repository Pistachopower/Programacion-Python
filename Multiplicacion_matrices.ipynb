{
 "cells": [
  {
   "cell_type": "code",
   "execution_count": 8,
   "metadata": {},
   "outputs": [
    {
     "name": "stdout",
     "output_type": "stream",
     "text": [
      "[None, None]\n",
      "[None, None]\n",
      "[[58, 64], [139, 154]]\n"
     ]
    },
    {
     "data": {
      "text/plain": [
       "[[58, 64], [139, 154]]"
      ]
     },
     "execution_count": 8,
     "metadata": {},
     "output_type": "execute_result"
    }
   ],
   "source": [
    "\n",
    "def calcular_elemento(A,B,i,j):\n",
    "   elemento = 0\n",
    "   numero_filas_B = len(B)\n",
    "   for k in range(numero_filas_B):\n",
    "       elemento += A[i][k] * B[k][j]\n",
    "   return elemento\n",
    "\n",
    "def multiplicar_matrices(A,B):\n",
    "   numero_filas_A = len(A)\n",
    "   numero_columnas_B = len(B[0])\n",
    "   M=[]\n",
    "   for i in range (numero_filas_A):\n",
    "       fila = [None]*numero_columnas_B\n",
    "       print(fila)\n",
    "       M.append(fila)\n",
    "   for i in range(numero_filas_A):\n",
    "       for j in range(numero_columnas_B):\n",
    "           elemento = calcular_elemento(A,B,i,j)\n",
    "           M[i][j] = elemento\n",
    "   print(M)\n",
    "   return M\n",
    "\n",
    "   A = [[1,2,3],[4,5,6]]\n",
    "B = [[7,8],[9,10],[11,12]]\n",
    "multiplicar_matrices (A,B)"
   ]
  },
  {
   "cell_type": "code",
   "execution_count": null,
   "metadata": {},
   "outputs": [],
   "source": [
    "# Esto son las columnas de la matriz\n",
    "def columnas(matriz):\n",
    "    matriz_columnas=[]\n",
    "    for fila in range(len(matriz[0])):\n",
    "        sublistas=[]\n",
    "        for columna in range(len(matriz)):\n",
    "            sublistas.append((matriz[columna][fila]))\n",
    "        matriz_columnas.append(sublistas)\n",
    "    return matriz_columnas\n",
    "\n",
    "# Esto es el producto de los listas que tu tenias hechas\n",
    "def producto_listas(lista1,lista2):\n",
    "    lista3=[]\n",
    "    for indice in range(len(lista1)):\n",
    "        lista3.append(lista1[indice]*lista2[indice])\n",
    "    return lista3\n",
    "\n",
    "\n",
    "#Producto de lista por matriz\n",
    "def producto_listamatriz(lista,matriz2):\n",
    "    matriz_resultado=[]\n",
    "    for fila in columnas(matriz2):\n",
    "        matriz_resultado.append(sum(producto_listas(lista,fila)))\n",
    "    return matriz_resultado\n",
    "\n",
    "print(producto_listamatriz([1,2,3],[[2,3,4],[3,5,6],[7,8,9]]))\n",
    "\n",
    "#Producto de matriz por matriz:\n",
    "def prod_matriz(matriz1,matriz2):\n",
    "    matriz_resultado=[]\n",
    "    for fila in matriz1:\n",
    "        matriz_resultado.append(producto_listamatriz(fila,matriz2))\n",
    "    return matriz_resultado\n",
    "print(prod_matriz([[2,3,4],[3,5,6],[7,8,9]],[[2,3,4],[3,5,6],[7,8,9]]))"
   ]
  }
 ],
 "metadata": {
  "kernelspec": {
   "display_name": "Python 3 (ipykernel)",
   "language": "python",
   "name": "python3"
  },
  "language_info": {
   "codemirror_mode": {
    "name": "ipython",
    "version": 3
   },
   "file_extension": ".py",
   "mimetype": "text/x-python",
   "name": "python",
   "nbconvert_exporter": "python",
   "pygments_lexer": "ipython3",
   "version": "3.10.6"
  },
  "vscode": {
   "interpreter": {
    "hash": "916dbcbb3f70747c44a77c7bcd40155683ae19c65e1c03b4aa3499c5328201f1"
   }
  }
 },
 "nbformat": 4,
 "nbformat_minor": 2
}
