{
 "cells": [
  {
   "cell_type": "markdown",
   "metadata": {},
   "source": [
    "### Pseudocódigo e implementar en python\n",
    "# 1. Dada una lista de cadenas, obtener la cadena más larga.\n",
    "\n"
   ]
  },
  {
   "cell_type": "code",
   "execution_count": 15,
   "metadata": {},
   "outputs": [
    {
     "name": "stdout",
     "output_type": "stream",
     "text": [
      "quieres\n"
     ]
    }
   ],
   "source": [
    "def cadena_larga(lista):\n",
    "    largo=\"\"\n",
    "    for elem in lista:\n",
    "        if len(largo)<len(elem):\n",
    "            largo=elem\n",
    "    return largo\n",
    "\n",
    "print(cadena_larga([\"hola\", \"que\", \"quieres\"]))"
   ]
  },
  {
   "cell_type": "code",
   "execution_count": 13,
   "metadata": {},
   "outputs": [
    {
     "name": "stdout",
     "output_type": "stream",
     "text": [
      "esternocleidomastoideo\n"
     ]
    }
   ],
   "source": [
    "def cadena_larga(lista):\n",
    "    return max(lista,key=len)\n",
    "\n",
    "print(cadena_larga([\"hola\",\"esternocleidomastoideo\",\"desoxiribonucleico\"]))"
   ]
  },
  {
   "cell_type": "markdown",
   "metadata": {},
   "source": [
    "# 2.Dada la lista de coeficientes enteros de un polinomio y un número real, determinar si ese número es una raíz del polinomio.\n",
    "Para saber si un número es raíz de un polinomio, se puede aplicar el polinomio al número y si el resultado de esa aplicación de 0, el número es raíz."
   ]
  },
  {
   "cell_type": "code",
   "execution_count": 1,
   "metadata": {},
   "outputs": [
    {
     "data": {
      "text/plain": [
       "True"
      ]
     },
     "execution_count": 1,
     "metadata": {},
     "output_type": "execute_result"
    }
   ],
   "source": [
    "def polinomio(a, b, c, x):\n",
    "    if (a*(x**2))+(b*x)+c==0:\n",
    "        return True\n",
    "    else:\n",
    "        return False\n",
    "\n",
    "#polinomio(1,4,12,-2)\n",
    "polinomio(1,4,-12,2)"
   ]
  },
  {
   "cell_type": "code",
   "execution_count": 26,
   "metadata": {},
   "outputs": [
    {
     "name": "stdout",
     "output_type": "stream",
     "text": [
      "True\n",
      "True\n"
     ]
    }
   ],
   "source": [
    "def polinomio(*args):\n",
    "    args=list(args)\n",
    "    #x=args[len(args)-1]\n",
    "    x=args.pop()\n",
    "    elevado=len(args)-1\n",
    "    acumulado=0\n",
    "    for arg in args:\n",
    "        if elevado>0:\n",
    "            acumulado=acumulado+arg*(x**elevado)\n",
    "            elevado=elevado-1\n",
    "        else:\n",
    "            return acumulado+arg==0\n",
    "            #return acumulado-arg==0 or acumulado+arg==0\n",
    "\n",
    "\n",
    "print(polinomio(1,4,-12,2))\n",
    "print(polinomio(1,3,-2,-16,2))"
   ]
  },
  {
   "cell_type": "code",
   "execution_count": 27,
   "metadata": {},
   "outputs": [
    {
     "name": "stdout",
     "output_type": "stream",
     "text": [
      "True\n",
      "True\n"
     ]
    }
   ],
   "source": [
    "def polinomio(*args):\n",
    "    args=list(args)\n",
    "    x=args.pop()\n",
    "    elevado=len(args)-1\n",
    "    acumulado=0\n",
    "    for arg in args:\n",
    "        acumulado=acumulado+arg*(x**elevado)\n",
    "        elevado=elevado-1\n",
    "    return acumulado==0\n",
    "\n",
    "\n",
    "print(polinomio(1,4,-12,2))\n",
    "print(polinomio(1,3,-2,-16,2))"
   ]
  },
  {
   "cell_type": "markdown",
   "metadata": {},
   "source": [
    "# 3.Dado un número entero positivo, construir la matriz identidad de esa dimensión"
   ]
  },
  {
   "cell_type": "code",
   "execution_count": 38,
   "metadata": {},
   "outputs": [
    {
     "name": "stdout",
     "output_type": "stream",
     "text": [
      "[[1, 0, 0, 0], [0, 1, 0, 0], [0, 0, 1, 0], [0, 0, 0, 1]]\n"
     ]
    }
   ],
   "source": [
    "def matriz_identidad(n):\n",
    "    matriz=[]\n",
    "    for x in range(n):\n",
    "        matriz.append([])\n",
    "        for y in range(n):\n",
    "            if(x!=y):\n",
    "                matriz[x].append(0)\n",
    "            else:\n",
    "                matriz[x].append(1)\n",
    "    return matriz\n",
    "\n",
    "print(matriz_identidad(4))\n"
   ]
  }
 ],
 "metadata": {
  "kernelspec": {
   "display_name": "Python 3 (ipykernel)",
   "language": "python",
   "name": "python3"
  },
  "language_info": {
   "codemirror_mode": {
    "name": "ipython",
    "version": 3
   },
   "file_extension": ".py",
   "mimetype": "text/x-python",
   "name": "python",
   "nbconvert_exporter": "python",
   "pygments_lexer": "ipython3",
   "version": "3.10.6"
  },
  "vscode": {
   "interpreter": {
    "hash": "916dbcbb3f70747c44a77c7bcd40155683ae19c65e1c03b4aa3499c5328201f1"
   }
  }
 },
 "nbformat": 4,
 "nbformat_minor": 2
}
