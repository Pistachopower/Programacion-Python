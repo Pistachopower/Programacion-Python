{
 "cells": [
  {
   "attachments": {},
   "cell_type": "markdown",
   "metadata": {},
   "source": [
    "La recursividad es un concepto importante en programación que se refiere a una función que se llama a sí misma para resolver un problema. En Python, puedes definir una función recursiva utilizando la sentencia \"def\" y la palabra clave \"return\" para devolver el resultado."
   ]
  },
  {
   "cell_type": "code",
   "execution_count": null,
   "metadata": {},
   "outputs": [],
   "source": [
    "def factorial(n):\n",
    "    if n == 1:\n",
    "        return 1\n",
    "    else:\n",
    "        return n * factorial(n-1)\n"
   ]
  },
  {
   "attachments": {},
   "cell_type": "markdown",
   "metadata": {},
   "source": [
    "Esta función toma un número entero como argumento y devuelve el factorial de ese número. El factorial de un número n se define como el producto de todos los números enteros positivos desde 1 hasta n. Por ejemplo, el factorial de 5 (5!) es 5 x 4 x 3 x 2 x 1 = 120.\n",
    "\n",
    "La función comprueba si n es igual a 1. Si es así, devuelve 1, que es el caso base de la recursión. Si n no es igual a 1, la función se llama a sí misma con el argumento n-1, y el resultado se multiplica por n para obtener el factorial de n. De esta manera, la función se llama recursivamente hasta que se alcanza el caso base y se devuelve el resultado final."
   ]
  },
  {
   "attachments": {},
   "cell_type": "markdown",
   "metadata": {},
   "source": [
    "En la función de ejemplo que proporcioné, se utiliza n-1 como argumento en la llamada recursiva para calcular el factorial. Esto se debe a que la definición del factorial implica multiplicar todos los números enteros positivos menores o iguales a n. Por lo tanto, al llamar a la función con n-1, estamos efectivamente calculando el factorial del número anterior a n.\n",
    "\n",
    "Cada vez que se llama a la función con un número menor, se reduce en una unidad el valor del argumento. Esto permite que la función recursiva se llame a sí misma varias veces, cada vez con un argumento más pequeño, hasta llegar al caso base, que en el ejemplo es cuando n == 1.\n",
    "\n",
    "En resumen, se utiliza n-1 para calcular el factorial de n porque el factorial de n es igual a n multiplicado por el factorial de n-1, y esto se puede calcular recursivamente mediante la función que definimos."
   ]
  }
 ],
 "metadata": {
  "language_info": {
   "name": "python"
  },
  "orig_nbformat": 4
 },
 "nbformat": 4,
 "nbformat_minor": 2
}
