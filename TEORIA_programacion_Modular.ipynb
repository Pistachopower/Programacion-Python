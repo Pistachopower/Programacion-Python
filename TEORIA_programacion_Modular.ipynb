{
 "cells": [
  {
   "cell_type": "markdown",
   "metadata": {},
   "source": [
    "Programacion modular \n",
    "La independencia de los modulos permiten trabajar con ellos simultaneamente \n",
    "La modificacion de un modulo no afecta a los demas \n",
    "Los modulos solo se escriben una vez, aunque se necesiten en distintas ocaciones. \n",
    "\n",
    "Resolucion independiente de los subproblemas resultantes de la descomposicion de un problema.  Un problema sera resuelto por un programa principal que transfiere el control a los distintos modulos o subprograma, los cuales al terminar su tarea devolveran el control al programa principal. \n",
    "\n",
    "Tipos:\n",
    "    <br> Funciones: Toma uno o mas valores denominados argumentos y devuelve un resultado.\n",
    "\n",
    "   <br>  Procedimiento: igual que funcion pero no devuelve ningun valor.\n",
    "\n",
    "\n",
    "Programa: convertir celsius a grado farenheit<br> \n",
    "\n",
    "Inicio programa<br> \n",
    "    variables <br> \n",
    "\n",
    "Inicio programa<br> \n",
    "Inicio funcion<br> \n",
    "    farenheit<-- (9/5 * celsius) -32<br> \n",
    "    devolver farenheit<br> \n",
    "fin funcionv<br> \n",
    "fin programa<br> \n",
    "\n",
    "\n",
    "\n"
   ]
  },
  {
   "cell_type": "code",
   "execution_count": 4,
   "metadata": {},
   "outputs": [],
   "source": [
    "#funcion\n",
    "def grados_celsius_f(Fahrennheit):\n",
    "    celsius= ((5/9) * Fahrennheit -32)\n",
    "    return celsius\n"
   ]
  },
  {
   "cell_type": "code",
   "execution_count": 10,
   "metadata": {},
   "outputs": [
    {
     "name": "stdout",
     "output_type": "stream",
     "text": [
      "-4.222222222222221\n"
     ]
    }
   ],
   "source": [
    "grados_celsius_f(50)"
   ]
  },
  {
   "cell_type": "code",
   "execution_count": 5,
   "metadata": {},
   "outputs": [],
   "source": [
    "#procedimiento\n",
    "def grados_celsius_f(Fahrennheit):\n",
    "    celsius= ((5/9) * Fahrennheit -32)\n",
    "    print(celsius)\n"
   ]
  },
  {
   "cell_type": "code",
   "execution_count": 2,
   "metadata": {},
   "outputs": [],
   "source": [
    "#definicion\n",
    "def saludar():\n",
    "    print(\"este print se llama desde el procedimiento saludar\")"
   ]
  },
  {
   "cell_type": "code",
   "execution_count": 3,
   "metadata": {},
   "outputs": [
    {
     "name": "stdout",
     "output_type": "stream",
     "text": [
      "este print se llama desde el procedimiento saludar\n"
     ]
    }
   ],
   "source": [
    "#llamada\n",
    "saludar()"
   ]
  },
  {
   "cell_type": "code",
   "execution_count": 8,
   "metadata": {},
   "outputs": [],
   "source": [
    "def dibujar_tabla_del_5():\n",
    "    for i in range(10):\n",
    "        print(\"5 * {} = {}\".format(i,i*5))\n",
    "        "
   ]
  },
  {
   "cell_type": "code",
   "execution_count": 9,
   "metadata": {},
   "outputs": [
    {
     "name": "stdout",
     "output_type": "stream",
     "text": [
      "5 * 0 = 0\n",
      "5 * 1 = 5\n",
      "5 * 2 = 10\n",
      "5 * 3 = 15\n",
      "5 * 4 = 20\n",
      "5 * 5 = 25\n",
      "5 * 6 = 30\n",
      "5 * 7 = 35\n",
      "5 * 8 = 40\n",
      "5 * 9 = 45\n"
     ]
    }
   ],
   "source": [
    "dibujar_tabla_del_5()"
   ]
  },
  {
   "cell_type": "code",
   "execution_count": 6,
   "metadata": {},
   "outputs": [
    {
     "name": "stdout",
     "output_type": "stream",
     "text": [
      "10\n"
     ]
    }
   ],
   "source": [
    "m=10\n",
    "\n",
    "def test ():\n",
    "    print(m)\n",
    "\n",
    "test()\n",
    "    "
   ]
  },
  {
   "cell_type": "code",
   "execution_count": 13,
   "metadata": {},
   "outputs": [],
   "source": [
    "#https://www-w3schools-com.translate.goog/python/python_variables_global.asp?_x_tr_sl=en&_x_tr_tl=es&_x_tr_hl=es&_x_tr_pto=sc\n",
    "#Para poder modificar una variable externa desde la funcion debemos indicar la palabra clave global \n",
    "#Lo útil de esto es que puede crear una variable \n",
    "m=10\n",
    "def test():\n",
    "    global m\n",
    "    m= 5\n",
    "    print(m)\n",
    "\n",
    "\n",
    "\n",
    "\n"
   ]
  },
  {
   "cell_type": "code",
   "execution_count": 14,
   "metadata": {},
   "outputs": [
    {
     "data": {
      "text/plain": [
       "'La funcion test devuelve una cadena'"
      ]
     },
     "execution_count": 14,
     "metadata": {},
     "output_type": "execute_result"
    }
   ],
   "source": [
    "#Return: retorno de valores \n",
    "#Gracias a la instruccion return las funciones pueden devolver valores al proceso principal para comunicarse con el exterior. La funcion finaliza en el \n",
    "#en el momento de devolver el valor. \n",
    "\n",
    "def test():\n",
    "    return \"La funcion test devuelve una cadena\"\n",
    "\n",
    "test()\n"
   ]
  },
  {
   "cell_type": "code",
   "execution_count": 22,
   "metadata": {},
   "outputs": [
    {
     "name": "stdout",
     "output_type": "stream",
     "text": [
      "[1, 2, 3, 4, 5]\n",
      "[1, 2, 3, 4, 5]\n"
     ]
    }
   ],
   "source": [
    "#Los valores devueltos por una funcion se tratan como valores literales directos del tipo de dato retornado \n",
    "print(test())\n",
    "\n",
    "#puedes guardar una funcion en una variable \n",
    "funcion= test()\n",
    "print(funcion) "
   ]
  },
  {
   "cell_type": "code",
   "execution_count": 21,
   "metadata": {},
   "outputs": [
    {
     "name": "stdout",
     "output_type": "stream",
     "text": [
      "[1, 2, 3, 4, 5]\n",
      "3\n"
     ]
    }
   ],
   "source": [
    "def test ():\n",
    "    return [1,2,3,4,5]\n",
    "\n",
    "print(test())\n",
    "\n",
    "\n",
    "#acceder a un elemento de la lista que esta dentro de una funcion\n",
    "print(test()[2])"
   ]
  },
  {
   "cell_type": "code",
   "execution_count": 23,
   "metadata": {},
   "outputs": [
    {
     "data": {
      "text/plain": [
       "('Una cadena', 20, [1, 2, 3])"
      ]
     },
     "execution_count": 23,
     "metadata": {},
     "output_type": "execute_result"
    }
   ],
   "source": [
    "\"\"\"\n",
    "Retorno multiple\n",
    "Una caracteristica es la posibilidadd de devolver multiples valores separados por comas \n",
    "\n",
    "\"\"\"\n",
    "\n",
    "def test ():\n",
    "    return \"Una cadena\", 20, [1,2,3]\n",
    "\n",
    "test()\n"
   ]
  },
  {
   "cell_type": "code",
   "execution_count": 28,
   "metadata": {},
   "outputs": [
    {
     "name": "stdout",
     "output_type": "stream",
     "text": [
      "Una cadena\n",
      "20\n",
      "[1, 2, 3]\n"
     ]
    }
   ],
   "source": [
    "#Estos valores se tratan en conjunto como una tupla inmutable y se pueden reasignar a distintas variables \n",
    "#definir los valores del return a unas variables \n",
    "\n",
    "c,n,l= test()\n",
    "\n",
    "print(c)\n",
    "print(n)\n",
    "print(l)\n",
    "\n"
   ]
  },
  {
   "cell_type": "code",
   "execution_count": 31,
   "metadata": {},
   "outputs": [
    {
     "name": "stdout",
     "output_type": "stream",
     "text": [
      "3\n"
     ]
    }
   ],
   "source": [
    "#el argot se llama poner valores por parametros \n",
    "def suma (a,b):\n",
    "    return a + b\n",
    "\n",
    "\n",
    "r= suma(1,2)\n",
    "print(r)\n"
   ]
  },
  {
   "cell_type": "code",
   "execution_count": 33,
   "metadata": {},
   "outputs": [
    {
     "name": "stdout",
     "output_type": "stream",
     "text": [
      "-2\n",
      "2\n"
     ]
    }
   ],
   "source": [
    "#Argumentos por posicion\n",
    "#Cuando enviamos argumentos a una funcion estos se definen por el orden en que estan los parametros definidos\n",
    "\n",
    "def resta(a,b):\n",
    "    return a-b\n",
    "\n",
    "print(resta(8,10))\n",
    "print(resta(10,8))"
   ]
  },
  {
   "cell_type": "code",
   "execution_count": 34,
   "metadata": {},
   "outputs": [
    {
     "name": "stdout",
     "output_type": "stream",
     "text": [
      "2\n",
      "-2\n"
     ]
    }
   ],
   "source": [
    "#Argumentos por nombre \n",
    "#Podemos indicar durante la llamada el valor de cada parametro a partir de su nombre \n",
    "\n",
    "print(resta(a=10, b=8))\n",
    "print(resta(a=8, b=10))"
   ]
  },
  {
   "cell_type": "code",
   "execution_count": 42,
   "metadata": {},
   "outputs": [
    {
     "name": "stdout",
     "output_type": "stream",
     "text": [
      "-4\n",
      "Error, debes enviar dos numeros a la funcion\n",
      "None\n"
     ]
    }
   ],
   "source": [
    "#Parametros por defecto \n",
    "#Podemos asignar unos valores por defecto\n",
    "\n",
    "def resta (a=None, b= None):\n",
    "    if a == None or b == None:\n",
    "        print(\"Error, debes enviar dos numeros a la funcion\")\n",
    "        return \n",
    "    return a - b\n",
    "\n",
    "\n",
    "print(\"se refiere al return a -b \")\n",
    "print(resta(1,5))\n",
    "\n",
    "print(\"Al no colocar nada en los parametros se devuelve None\")\n",
    "print(resta())\n",
    "\n",
    "\n",
    "    "
   ]
  },
  {
   "cell_type": "code",
   "execution_count": null,
   "metadata": {},
   "outputs": [],
   "source": [
    "\"\"\"\n",
    "La cuota mensual de la hipoteca de h euros a pagar a lo largo de n años \n",
    "a un interes compuesto del i por cien \n",
    "anual se calcula con la formula: (h*r) / (1- (1+r)¹²n) y r=i /100 n\n",
    "\n",
    "Problema: dados el importe de la hipoteca, la cantidad de años para \n",
    "pagarla y el interés anual, calcular\n",
    "el importe total que habremos pagado finalmente al banco. \n",
    "\n",
    "Hacer pseudodigo y codigo \n",
    "\n",
    "\"\"\""
   ]
  },
  {
   "cell_type": "code",
   "execution_count": 1,
   "metadata": {},
   "outputs": [
    {
     "name": "stdout",
     "output_type": "stream",
     "text": [
      "2\n"
     ]
    }
   ],
   "source": [
    "def sumar(a,b):\n",
    "    return a+b\n",
    "\n",
    "def restar(a,b):\n",
    "    return a+b\n",
    "\n",
    "def producto(a,b):\n",
    "    return a+b\n",
    "\n",
    "def division(a,b):\n",
    "    return a+b\n",
    "\n",
    "def calcular(operacion,a,b):\n",
    "    if operacion == 'sumar':\n",
    "        return sumar(a,b)\n",
    "    elif operacion == 'restar':\n",
    "        return restar(a,b)\n",
    "    elif operacion == 'producto':\n",
    "        return producto(a,b)\n",
    "    elif operacion == 'division':\n",
    "        return division(a,b)\n",
    "    else:\n",
    "        print('Operacion no soportada')\n",
    "\n",
    "\n",
    "\n",
    "print(calcular('producto',1,1))"
   ]
  }
 ],
 "metadata": {
  "kernelspec": {
   "display_name": "Python 3 (ipykernel)",
   "language": "python",
   "name": "python3"
  },
  "language_info": {
   "codemirror_mode": {
    "name": "ipython",
    "version": 3
   },
   "file_extension": ".py",
   "mimetype": "text/x-python",
   "name": "python",
   "nbconvert_exporter": "python",
   "pygments_lexer": "ipython3",
   "version": "3.10.6"
  },
  "vscode": {
   "interpreter": {
    "hash": "916dbcbb3f70747c44a77c7bcd40155683ae19c65e1c03b4aa3499c5328201f1"
   }
  }
 },
 "nbformat": 4,
 "nbformat_minor": 2
}
