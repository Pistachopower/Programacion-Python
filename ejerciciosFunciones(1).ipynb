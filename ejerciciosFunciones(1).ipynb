{
 "cells": [
  {
   "cell_type": "markdown",
   "metadata": {},
   "source": [
    "Escribir e implementar en python el pseudocódigo de un programa que defina una función que resuelva el siguiente problema y devuelva la solución\n",
    "\n",
    "La cuota mensual de la hipoteca de h euros a pagar a lo largo de n años a un interés compuesto del i por cien anual se calcula con la fórmula hr1-(1+r)12n y r = i100 n\n",
    "\n",
    "Problema: Dados el importe de la hipoteca, la cantidad de años para pagarla y el interés anual, calcular el importe total que habremos pagado finalmente al banco.\n",
    "Hacer pseudocódigo y código\n"
   ]
  },
  {
   "cell_type": "markdown",
   "metadata": {},
   "source": [
    "h= monto hipoteca\n",
    "n= años\n",
    "i= interes "
   ]
  },
  {
   "cell_type": "code",
   "execution_count": 2,
   "metadata": {},
   "outputs": [
    {
     "name": "stdout",
     "output_type": "stream",
     "text": [
      "La cuota mensual de la hipoteca es -3.0000000000000107 €. \n"
     ]
    }
   ],
   "source": [
    "a=0\n",
    "b=1\n",
    "\n",
    "while a< b:\n",
    "    a+=1\n",
    "    interes=(eval(input('Introduce el interes: ')))\n",
    "    monto_hipoteca= eval(input(\"Introduce el monto de la hipoteca: \"))\n",
    "\n",
    "def calculo_inicial ():\n",
    "    procedimiento=  interes / (100 * 12) \n",
    "    return procedimiento\n",
    "\n",
    "#segundo_procedimiento= calculo_inicial()\n",
    "\n",
    "def calculo_final():\n",
    "    cuota_mensual= (monto_hipoteca * calculo_inicial()) / (1-(1+calculo_inicial()))\n",
    "    return cuota_mensual\n",
    "\n",
    "respuesta= calculo_final()\n",
    "print(\"La cuota mensual de la hipoteca es {} €. \".format(respuesta))\n",
    " \n",
    "\n"
   ]
  },
  {
   "cell_type": "code",
   "execution_count": 9,
   "metadata": {},
   "outputs": [
    {
     "data": {
      "text/plain": [
       "845.9479107388994"
      ]
     },
     "execution_count": 9,
     "metadata": {},
     "output_type": "execute_result"
    }
   ],
   "source": [
    "\"\"\"\n",
    "Solucion profesora\n",
    "\"\"\"\n",
    "\n",
    "def importe_total (h,n,i):\n",
    "    r= i / (100*12)\n",
    "    cuota_mensual= (h*r) / (1-(1+r) ** (-12* n))\n",
    "    return cuota_mensual\n",
    "importe_total(200000,20,0.15)"
   ]
  },
  {
   "cell_type": "code",
   "execution_count": 8,
   "metadata": {},
   "outputs": [
    {
     "name": "stdout",
     "output_type": "stream",
     "text": [
      "845.9479107388994\n"
     ]
    }
   ],
   "source": [
    "print(importe_total(200000,20,0.15))\n"
   ]
  },
  {
   "cell_type": "markdown",
   "metadata": {},
   "source": [
    "Pseudocódigo y implementar en python\n",
    "1. Dada una lista de cadenas, obtener la cadena más larga.<br>\n",
    "\n",
    "\n",
    "\n"
   ]
  },
  {
   "cell_type": "code",
   "execution_count": null,
   "metadata": {},
   "outputs": [
    {
     "data": {
      "text/plain": [
       "'hugo antonio'"
      ]
     },
     "execution_count": 32,
     "metadata": {},
     "output_type": "execute_result"
    }
   ],
   "source": [
    "def cadena_mas_larga(cadenas):\n",
    "    max_len= 0\n",
    "\n",
    "    for cadena in cadenas: \n",
    "        if len(cadena) > max_len:\n",
    "            max_len= len(cadena)\n",
    "            cadenaMayor= cadena\n",
    "    return cadenaMayor\n",
    "\n",
    "cadena_mas_larga(['sanchez', 'hugo antonio', 'frank'])\n"
   ]
  },
  {
   "cell_type": "markdown",
   "metadata": {},
   "source": [
    "2.Dada la lista de coeficientes enteros de un polinomio y un número real, determinar si ese número es una raíz del polinomio.<br>\n",
    "Para saber si un número es raíz de un polinomio, se puede aplicar el polinomio al número y si el resultado de esa aplicación de 0, el número es raíz.<br>\n"
   ]
  },
  {
   "cell_type": "code",
   "execution_count": 1,
   "metadata": {},
   "outputs": [
    {
     "name": "stdout",
     "output_type": "stream",
     "text": [
      "La lista es una raiz del polinomio\n"
     ]
    }
   ],
   "source": [
    "def polinomio(lista_coeficienteA, numero_real):\n",
    "    acumulador= 0\n",
    "    for coeficiente in lista_coeficienteA:\n",
    "        acumulador= acumulador + coeficiente * (numero_real[0]) ** len(lista_coeficienteA) #modificar len(lista_coeficiente a decremento 3,2,1)\n",
    "    \n",
    "        if acumulador != 0:\n",
    "            return print(\"La lista no es una raiz del polinomio\")\n",
    "        else:\n",
    "            return print(\"La lista es una raiz del polinomio\")\n",
    "        \n",
    "polinomio([2,3,4],[2])\n"
   ]
  },
  {
   "cell_type": "markdown",
   "metadata": {},
   "source": [
    "3.Dado un número entero positivo, construir la matriz identidad de esa dimensión<br>\n"
   ]
  },
  {
   "cell_type": "code",
   "execution_count": 71,
   "metadata": {},
   "outputs": [
    {
     "name": "stdout",
     "output_type": "stream",
     "text": [
      "[[1, 0, 0, 0], [0, 0, 0, 0], [0, 0, 0, 0]]\n"
     ]
    }
   ],
   "source": [
    "\"\"\"\n",
    "def matriz_identidad(n):\n",
    "    matriz=[]\n",
    "    for elementos in range(3):\n",
    "        matriz.append([0]*3)\n",
    "    matriz[0][0]=1  \n",
    "    matriz[0][0]=1\n",
    "    return matriz\n",
    "\n",
    "\"\"\"\n",
    "\n",
    "#Forma definitiva:\n",
    "def polinomio(*args):\n",
    "    args=list(args)\n",
    "    x=args.pop()\n",
    "    elevado=len(args)-1\n",
    "    acumulado=0\n",
    "    for arg in args:\n",
    "        acumulado=acumulado+arg*(x**elevado)\n",
    "        elevado=elevado-1\n",
    "    return acumulado==0\n",
    "\n",
    "\n",
    "print(polinomio(1,4,-12,2))\n",
    "print(polinomio(1,3,-2,-16,2))"
   ]
  },
  {
   "cell_type": "code",
   "execution_count": 2,
   "metadata": {},
   "outputs": [
    {
     "data": {
      "text/plain": [
       "[[1, 0, 0, 0], [0, 1, 0, 0], [0, 0, 1, 0], [0, 0, 0, 1]]"
      ]
     },
     "execution_count": 2,
     "metadata": {},
     "output_type": "execute_result"
    }
   ],
   "source": [
    "\n",
    "#Solucion \n",
    "def generar_identidad(n):\n",
    "    matriz=[]\n",
    "    \n",
    "    for elem in range(n):\n",
    "        sublista= []\n",
    "        \n",
    "        for i in range(n):\n",
    "            if elem == i:\n",
    "                sublista.append(1)\n",
    "            else:\n",
    "                sublista.append(0)\n",
    "        matriz.append(sublista)\n",
    "    return matriz\n",
    "\n",
    "generar_identidad(4)"
   ]
  },
  {
   "cell_type": "markdown",
   "metadata": {},
   "source": [
    "Conjetura de Goldbach. \"Todo número entero par estrictamente mayor que 2 se puede escribir como suma de dos números primos\".   \n",
    "Problema: dado un número entero par mayor que 2, encontrar una tupla de dos números primos cuya suma coincida con el número.\n"
   ]
  },
  {
   "cell_type": "code",
   "execution_count": null,
   "metadata": {},
   "outputs": [],
   "source": [
    "numero=10\n",
    "lista_seleccion_primo=[]\n",
    "\"\"\"\n",
    "lista_primos= [\n",
    "    [2],[3],[5]\n",
    "]\n",
    "\"\"\"\n",
    "\n",
    "for listaGeneral in range(1, numero+1):\n",
    "    if listaGeneral % 2 == 0: \n",
    "        print(numero)\n"
   ]
  },
  {
   "cell_type": "code",
   "execution_count": 17,
   "metadata": {},
   "outputs": [
    {
     "name": "stdout",
     "output_type": "stream",
     "text": [
      "[1, 11]\n",
      "es primo\n"
     ]
    }
   ],
   "source": [
    "#divisores de un numero se trata que el resultado de resto \n",
    "# a 0 es decir, 10/1= resto 0 y ect\n",
    "\n",
    "a=11\n",
    "divisores= []\n",
    "\n",
    "for i in range(1, a+1):\n",
    "    if a % i == 0:\n",
    "        divisores.append(i)\n",
    "\n",
    "print(divisores)\n",
    "\n",
    "\n",
    "if len(divisores) == 2:\n",
    "    print(\"es primo\")\n",
    "    \n",
    "\n",
    "    \n",
    "        "
   ]
  },
  {
   "cell_type": "code",
   "execution_count": null,
   "metadata": {},
   "outputs": [],
   "source": []
  }
 ],
 "metadata": {
  "kernelspec": {
   "display_name": "Python 3 (ipykernel)",
   "language": "python",
   "name": "python3"
  },
  "language_info": {
   "codemirror_mode": {
    "name": "ipython",
    "version": 3
   },
   "file_extension": ".py",
   "mimetype": "text/x-python",
   "name": "python",
   "nbconvert_exporter": "python",
   "pygments_lexer": "ipython3",
   "version": "3.10.6"
  },
  "vscode": {
   "interpreter": {
    "hash": "1feb0e5d47ec2a4fe1dfa325e58698142834ad14910c01fd142beb8dba5ce0f7"
   }
  }
 },
 "nbformat": 4,
 "nbformat_minor": 2
}
